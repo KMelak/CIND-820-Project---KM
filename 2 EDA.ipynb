{
 "cells": [
  {
   "cell_type": "markdown",
   "metadata": {},
   "source": [
    "Install necessary packages"
   ]
  },
  {
   "cell_type": "code",
   "execution_count": 8,
   "metadata": {},
   "outputs": [
    {
     "data": {
      "text/plain": [
       "'C:\\\\Users\\\\eddym\\\\Desktop\\\\Kingas\\\\School\\\\TMet University\\\\CIND820 - Big Data Analytics Project\\\\Project'"
      ]
     },
     "execution_count": 8,
     "metadata": {},
     "output_type": "execute_result"
    }
   ],
   "source": [
    "import numpy as np\n",
    "import pandas as pd\n",
    "import pandas_profiling\n",
    "from pandas_profiling import ProfileReport\n",
    "import os\n",
    "os.getcwd()"
   ]
  },
  {
   "cell_type": "code",
   "execution_count": 9,
   "metadata": {
    "scrolled": true
   },
   "outputs": [
    {
     "data": {
      "text/html": [
       "<div>\n",
       "<style scoped>\n",
       "    .dataframe tbody tr th:only-of-type {\n",
       "        vertical-align: middle;\n",
       "    }\n",
       "\n",
       "    .dataframe tbody tr th {\n",
       "        vertical-align: top;\n",
       "    }\n",
       "\n",
       "    .dataframe thead th {\n",
       "        text-align: right;\n",
       "    }\n",
       "</style>\n",
       "<table border=\"1\" class=\"dataframe\">\n",
       "  <thead>\n",
       "    <tr style=\"text-align: right;\">\n",
       "      <th></th>\n",
       "      <th>Claims_Level</th>\n",
       "      <th>FV_D</th>\n",
       "      <th>FV_M</th>\n",
       "      <th>FV_DATE</th>\n",
       "      <th>VISIT_CODE</th>\n",
       "      <th>WP_ID</th>\n",
       "      <th>WP_NAME</th>\n",
       "      <th>WP_ADDRESS</th>\n",
       "      <th>REGION_CODE</th>\n",
       "      <th>IND_Name</th>\n",
       "      <th>...</th>\n",
       "      <th>NAICS.DESCR</th>\n",
       "      <th>Frac_Level</th>\n",
       "      <th>LB_Level</th>\n",
       "      <th>Sh_Level</th>\n",
       "      <th>HIC_Level</th>\n",
       "      <th>HIC_Per_Level</th>\n",
       "      <th>Emp1524_Level</th>\n",
       "      <th>Emp2554_Level</th>\n",
       "      <th>Emp55plus_Level</th>\n",
       "      <th>Contra_level</th>\n",
       "    </tr>\n",
       "  </thead>\n",
       "  <tbody>\n",
       "    <tr>\n",
       "      <th>0</th>\n",
       "      <td>Low</td>\n",
       "      <td>23</td>\n",
       "      <td>10</td>\n",
       "      <td>2019-10-23</td>\n",
       "      <td>2019-10-23 2123905</td>\n",
       "      <td>2123905</td>\n",
       "      <td>Solutions CMD</td>\n",
       "      <td>275 Daniel Street, Arnprior - Renfrew - Arnpri...</td>\n",
       "      <td>K</td>\n",
       "      <td>Construction</td>\n",
       "      <td>...</td>\n",
       "      <td>Industrial Building and Structure Construction</td>\n",
       "      <td>Low-Moderate</td>\n",
       "      <td>Low</td>\n",
       "      <td>Low</td>\n",
       "      <td>Moderate</td>\n",
       "      <td>Very High</td>\n",
       "      <td>Above Average</td>\n",
       "      <td>Above Average</td>\n",
       "      <td>Above Average</td>\n",
       "      <td>Moderate</td>\n",
       "    </tr>\n",
       "    <tr>\n",
       "      <th>1</th>\n",
       "      <td>Low</td>\n",
       "      <td>8</td>\n",
       "      <td>1</td>\n",
       "      <td>2019-01-08</td>\n",
       "      <td>2019-01-08 2012482</td>\n",
       "      <td>2012482</td>\n",
       "      <td>D S CONSTRUCTION</td>\n",
       "      <td>Listowel - Perth - North Perth, ON, CANADA LOT...</td>\n",
       "      <td>K</td>\n",
       "      <td>Construction</td>\n",
       "      <td>...</td>\n",
       "      <td>Residential Building Construction</td>\n",
       "      <td>Low-Moderate</td>\n",
       "      <td>Low</td>\n",
       "      <td>Low</td>\n",
       "      <td>Moderate</td>\n",
       "      <td>Very High</td>\n",
       "      <td>Above Average</td>\n",
       "      <td>Above Average</td>\n",
       "      <td>Above Average</td>\n",
       "      <td>Low</td>\n",
       "    </tr>\n",
       "    <tr>\n",
       "      <th>2</th>\n",
       "      <td>Very Low</td>\n",
       "      <td>16</td>\n",
       "      <td>1</td>\n",
       "      <td>2019-01-16</td>\n",
       "      <td>2019-01-16 2055708</td>\n",
       "      <td>2055708</td>\n",
       "      <td>Foresterie Malloy Inc</td>\n",
       "      <td>132 bisson Rang, Sherbrooke Township - Haldima...</td>\n",
       "      <td>K</td>\n",
       "      <td>Agriculture, forestry, fishing and hunting</td>\n",
       "      <td>...</td>\n",
       "      <td>Contract Logging</td>\n",
       "      <td>Very Low</td>\n",
       "      <td>Very Low</td>\n",
       "      <td>Very Low</td>\n",
       "      <td>Very Low</td>\n",
       "      <td>Very High</td>\n",
       "      <td>Below Average</td>\n",
       "      <td>Below Average</td>\n",
       "      <td>Above Average</td>\n",
       "      <td>None</td>\n",
       "    </tr>\n",
       "    <tr>\n",
       "      <th>3</th>\n",
       "      <td>Low</td>\n",
       "      <td>23</td>\n",
       "      <td>1</td>\n",
       "      <td>2019-01-23</td>\n",
       "      <td>2019-01-23 2056530</td>\n",
       "      <td>2056530</td>\n",
       "      <td>DEBUS DESIGN   BUILD</td>\n",
       "      <td>199, Stratford - Perth - Stratford, ON, CANADA...</td>\n",
       "      <td>K</td>\n",
       "      <td>Construction</td>\n",
       "      <td>...</td>\n",
       "      <td>Residential Building Construction</td>\n",
       "      <td>Low-Moderate</td>\n",
       "      <td>Low</td>\n",
       "      <td>Low</td>\n",
       "      <td>Moderate</td>\n",
       "      <td>Very High</td>\n",
       "      <td>Above Average</td>\n",
       "      <td>Above Average</td>\n",
       "      <td>Above Average</td>\n",
       "      <td>High</td>\n",
       "    </tr>\n",
       "    <tr>\n",
       "      <th>4</th>\n",
       "      <td>Low</td>\n",
       "      <td>4</td>\n",
       "      <td>2</td>\n",
       "      <td>2019-02-04</td>\n",
       "      <td>2019-02-04 2058458</td>\n",
       "      <td>2058458</td>\n",
       "      <td>LANG CONTRACTING</td>\n",
       "      <td>St. Marys - Perth - St. Marys, ON, CANADA 74 W...</td>\n",
       "      <td>K</td>\n",
       "      <td>Construction</td>\n",
       "      <td>...</td>\n",
       "      <td>Residential Building Construction</td>\n",
       "      <td>Low-Moderate</td>\n",
       "      <td>Low</td>\n",
       "      <td>Low</td>\n",
       "      <td>Moderate</td>\n",
       "      <td>Very High</td>\n",
       "      <td>Above Average</td>\n",
       "      <td>Above Average</td>\n",
       "      <td>Above Average</td>\n",
       "      <td>High</td>\n",
       "    </tr>\n",
       "  </tbody>\n",
       "</table>\n",
       "<p>5 rows × 23 columns</p>\n",
       "</div>"
      ],
      "text/plain": [
       "  Claims_Level  FV_D  FV_M     FV_DATE          VISIT_CODE    WP_ID  \\\n",
       "0          Low    23    10  2019-10-23  2019-10-23 2123905  2123905   \n",
       "1          Low     8     1  2019-01-08  2019-01-08 2012482  2012482   \n",
       "2     Very Low    16     1  2019-01-16  2019-01-16 2055708  2055708   \n",
       "3          Low    23     1  2019-01-23  2019-01-23 2056530  2056530   \n",
       "4          Low     4     2  2019-02-04  2019-02-04 2058458  2058458   \n",
       "\n",
       "                  WP_NAME                                         WP_ADDRESS  \\\n",
       "0           Solutions CMD  275 Daniel Street, Arnprior - Renfrew - Arnpri...   \n",
       "1        D S CONSTRUCTION  Listowel - Perth - North Perth, ON, CANADA LOT...   \n",
       "2  Foresterie Malloy Inc   132 bisson Rang, Sherbrooke Township - Haldima...   \n",
       "3    DEBUS DESIGN   BUILD  199, Stratford - Perth - Stratford, ON, CANADA...   \n",
       "4        LANG CONTRACTING  St. Marys - Perth - St. Marys, ON, CANADA 74 W...   \n",
       "\n",
       "  REGION_CODE                                    IND_Name  ...  \\\n",
       "0           K                                Construction  ...   \n",
       "1           K                                Construction  ...   \n",
       "2           K  Agriculture, forestry, fishing and hunting  ...   \n",
       "3           K                                Construction  ...   \n",
       "4           K                                Construction  ...   \n",
       "\n",
       "                                       NAICS.DESCR    Frac_Level  LB_Level  \\\n",
       "0  Industrial Building and Structure Construction   Low-Moderate       Low   \n",
       "1               Residential Building Construction   Low-Moderate       Low   \n",
       "2                                Contract Logging       Very Low  Very Low   \n",
       "3               Residential Building Construction   Low-Moderate       Low   \n",
       "4               Residential Building Construction   Low-Moderate       Low   \n",
       "\n",
       "   Sh_Level HIC_Level HIC_Per_Level  Emp1524_Level  Emp2554_Level  \\\n",
       "0       Low  Moderate     Very High  Above Average  Above Average   \n",
       "1       Low  Moderate     Very High  Above Average  Above Average   \n",
       "2  Very Low  Very Low     Very High  Below Average  Below Average   \n",
       "3       Low  Moderate     Very High  Above Average  Above Average   \n",
       "4       Low  Moderate     Very High  Above Average  Above Average   \n",
       "\n",
       "  Emp55plus_Level Contra_level  \n",
       "0   Above Average     Moderate  \n",
       "1   Above Average          Low  \n",
       "2   Above Average         None  \n",
       "3   Above Average         High  \n",
       "4   Above Average         High  \n",
       "\n",
       "[5 rows x 23 columns]"
      ]
     },
     "execution_count": 9,
     "metadata": {},
     "output_type": "execute_result"
    }
   ],
   "source": [
    "#Profile report for transformed data\n",
    "\n",
    "data = pd.read_csv('Data_trans_claims_fac.csv', encoding=\"ISO-8859-1\")\n",
    "del data[\"Unnamed: 0\"]\n",
    "data.head()"
   ]
  },
  {
   "cell_type": "code",
   "execution_count": 3,
   "metadata": {},
   "outputs": [
    {
     "data": {
      "application/vnd.jupyter.widget-view+json": {
       "model_id": "85a7b7452b24411a82a0ff50246deadd",
       "version_major": 2,
       "version_minor": 0
      },
      "text/plain": [
       "Summarize dataset:   0%|          | 0/5 [00:00<?, ?it/s]"
      ]
     },
     "metadata": {},
     "output_type": "display_data"
    },
    {
     "data": {
      "application/vnd.jupyter.widget-view+json": {
       "model_id": "ee609efebb194430aeba5be126c70b0a",
       "version_major": 2,
       "version_minor": 0
      },
      "text/plain": [
       "Generate report structure:   0%|          | 0/1 [00:00<?, ?it/s]"
      ]
     },
     "metadata": {},
     "output_type": "display_data"
    },
    {
     "data": {
      "application/vnd.jupyter.widget-view+json": {
       "model_id": "6a720d62db564b66987126f73d7d69d4",
       "version_major": 2,
       "version_minor": 0
      },
      "text/plain": [
       "Render HTML:   0%|          | 0/1 [00:00<?, ?it/s]"
      ]
     },
     "metadata": {},
     "output_type": "display_data"
    },
    {
     "data": {
      "application/vnd.jupyter.widget-view+json": {
       "model_id": "a4e1a66318a745c79cc8f63f90223bb6",
       "version_major": 2,
       "version_minor": 0
      },
      "text/plain": [
       "Export report to file:   0%|          | 0/1 [00:00<?, ?it/s]"
      ]
     },
     "metadata": {},
     "output_type": "display_data"
    }
   ],
   "source": [
    "PR = ProfileReport(data, title=\"Profile Report - Inspections-Disc\")\n",
    "PR.to_file(\"Profile_Report-Insp_trans.html\")"
   ]
  },
  {
   "cell_type": "code",
   "execution_count": 4,
   "metadata": {},
   "outputs": [
    {
     "data": {
      "text/html": [
       "<div>\n",
       "<style scoped>\n",
       "    .dataframe tbody tr th:only-of-type {\n",
       "        vertical-align: middle;\n",
       "    }\n",
       "\n",
       "    .dataframe tbody tr th {\n",
       "        vertical-align: top;\n",
       "    }\n",
       "\n",
       "    .dataframe thead th {\n",
       "        text-align: right;\n",
       "    }\n",
       "</style>\n",
       "<table border=\"1\" class=\"dataframe\">\n",
       "  <thead>\n",
       "    <tr style=\"text-align: right;\">\n",
       "      <th></th>\n",
       "      <th>FV_D</th>\n",
       "      <th>FV_M</th>\n",
       "      <th>FV_DATE</th>\n",
       "      <th>VISIT_CODE</th>\n",
       "      <th>WP_ID</th>\n",
       "      <th>WP_NAME</th>\n",
       "      <th>WP_ADDRESS</th>\n",
       "      <th>REGION_CODE</th>\n",
       "      <th>IND_Name</th>\n",
       "      <th>IND_Cat</th>\n",
       "      <th>...</th>\n",
       "      <th>Shoulder</th>\n",
       "      <th>HIC_Total</th>\n",
       "      <th>HIC_Rate</th>\n",
       "      <th>Emp_15plus</th>\n",
       "      <th>Emp_15.24</th>\n",
       "      <th>EmpPer_1524</th>\n",
       "      <th>Emp_25.54</th>\n",
       "      <th>EmpPer_2554</th>\n",
       "      <th>Emp_55plus</th>\n",
       "      <th>EmpPer_55plus</th>\n",
       "    </tr>\n",
       "  </thead>\n",
       "  <tbody>\n",
       "    <tr>\n",
       "      <th>0</th>\n",
       "      <td>23</td>\n",
       "      <td>10</td>\n",
       "      <td>2019-10-23</td>\n",
       "      <td>2019-10-23 2123905</td>\n",
       "      <td>2123905</td>\n",
       "      <td>Solutions CMD</td>\n",
       "      <td>275 Daniel Street, Arnprior - Renfrew - Arnpri...</td>\n",
       "      <td>K</td>\n",
       "      <td>Construction</td>\n",
       "      <td>Goods-producing</td>\n",
       "      <td>...</td>\n",
       "      <td>54</td>\n",
       "      <td>330</td>\n",
       "      <td>0.35</td>\n",
       "      <td>540.0</td>\n",
       "      <td>58.5</td>\n",
       "      <td>10.83</td>\n",
       "      <td>362.5</td>\n",
       "      <td>67.13</td>\n",
       "      <td>119.0</td>\n",
       "      <td>22.04</td>\n",
       "    </tr>\n",
       "    <tr>\n",
       "      <th>1</th>\n",
       "      <td>8</td>\n",
       "      <td>1</td>\n",
       "      <td>2019-01-08</td>\n",
       "      <td>2019-01-08 2012482</td>\n",
       "      <td>2012482</td>\n",
       "      <td>D S CONSTRUCTION</td>\n",
       "      <td>Listowel - Perth - North Perth, ON, CANADA LOT...</td>\n",
       "      <td>K</td>\n",
       "      <td>Construction</td>\n",
       "      <td>Goods-producing</td>\n",
       "      <td>...</td>\n",
       "      <td>54</td>\n",
       "      <td>330</td>\n",
       "      <td>0.35</td>\n",
       "      <td>540.0</td>\n",
       "      <td>58.5</td>\n",
       "      <td>10.83</td>\n",
       "      <td>362.5</td>\n",
       "      <td>67.13</td>\n",
       "      <td>119.0</td>\n",
       "      <td>22.04</td>\n",
       "    </tr>\n",
       "    <tr>\n",
       "      <th>2</th>\n",
       "      <td>16</td>\n",
       "      <td>1</td>\n",
       "      <td>2019-01-16</td>\n",
       "      <td>2019-01-16 2055708</td>\n",
       "      <td>2055708</td>\n",
       "      <td>Foresterie Malloy Inc</td>\n",
       "      <td>132 bisson Rang, Sherbrooke Township - Haldima...</td>\n",
       "      <td>K</td>\n",
       "      <td>Agriculture, forestry, fishing and hunting</td>\n",
       "      <td>Goods-producing</td>\n",
       "      <td>...</td>\n",
       "      <td>15</td>\n",
       "      <td>72</td>\n",
       "      <td>0.35</td>\n",
       "      <td>1547.4</td>\n",
       "      <td>149.6</td>\n",
       "      <td>9.67</td>\n",
       "      <td>1002.7</td>\n",
       "      <td>64.80</td>\n",
       "      <td>393.1</td>\n",
       "      <td>25.40</td>\n",
       "    </tr>\n",
       "    <tr>\n",
       "      <th>3</th>\n",
       "      <td>23</td>\n",
       "      <td>1</td>\n",
       "      <td>2019-01-23</td>\n",
       "      <td>2019-01-23 2056530</td>\n",
       "      <td>2056530</td>\n",
       "      <td>DEBUS DESIGN   BUILD</td>\n",
       "      <td>199, Stratford - Perth - Stratford, ON, CANADA...</td>\n",
       "      <td>K</td>\n",
       "      <td>Construction</td>\n",
       "      <td>Goods-producing</td>\n",
       "      <td>...</td>\n",
       "      <td>54</td>\n",
       "      <td>330</td>\n",
       "      <td>0.35</td>\n",
       "      <td>540.0</td>\n",
       "      <td>58.5</td>\n",
       "      <td>10.83</td>\n",
       "      <td>362.5</td>\n",
       "      <td>67.13</td>\n",
       "      <td>119.0</td>\n",
       "      <td>22.04</td>\n",
       "    </tr>\n",
       "    <tr>\n",
       "      <th>4</th>\n",
       "      <td>4</td>\n",
       "      <td>2</td>\n",
       "      <td>2019-02-04</td>\n",
       "      <td>2019-02-04 2058458</td>\n",
       "      <td>2058458</td>\n",
       "      <td>LANG CONTRACTING</td>\n",
       "      <td>St. Marys - Perth - St. Marys, ON, CANADA 74 W...</td>\n",
       "      <td>K</td>\n",
       "      <td>Construction</td>\n",
       "      <td>Goods-producing</td>\n",
       "      <td>...</td>\n",
       "      <td>54</td>\n",
       "      <td>330</td>\n",
       "      <td>0.35</td>\n",
       "      <td>540.0</td>\n",
       "      <td>58.5</td>\n",
       "      <td>10.83</td>\n",
       "      <td>362.5</td>\n",
       "      <td>67.13</td>\n",
       "      <td>119.0</td>\n",
       "      <td>22.04</td>\n",
       "    </tr>\n",
       "  </tbody>\n",
       "</table>\n",
       "<p>5 rows × 27 columns</p>\n",
       "</div>"
      ],
      "text/plain": [
       "   FV_D  FV_M     FV_DATE          VISIT_CODE    WP_ID  \\\n",
       "0    23    10  2019-10-23  2019-10-23 2123905  2123905   \n",
       "1     8     1  2019-01-08  2019-01-08 2012482  2012482   \n",
       "2    16     1  2019-01-16  2019-01-16 2055708  2055708   \n",
       "3    23     1  2019-01-23  2019-01-23 2056530  2056530   \n",
       "4     4     2  2019-02-04  2019-02-04 2058458  2058458   \n",
       "\n",
       "                  WP_NAME                                         WP_ADDRESS  \\\n",
       "0           Solutions CMD  275 Daniel Street, Arnprior - Renfrew - Arnpri...   \n",
       "1        D S CONSTRUCTION  Listowel - Perth - North Perth, ON, CANADA LOT...   \n",
       "2  Foresterie Malloy Inc   132 bisson Rang, Sherbrooke Township - Haldima...   \n",
       "3    DEBUS DESIGN   BUILD  199, Stratford - Perth - Stratford, ON, CANADA...   \n",
       "4        LANG CONTRACTING  St. Marys - Perth - St. Marys, ON, CANADA 74 W...   \n",
       "\n",
       "  REGION_CODE                                    IND_Name          IND_Cat  \\\n",
       "0           K                                Construction  Goods-producing   \n",
       "1           K                                Construction  Goods-producing   \n",
       "2           K  Agriculture, forestry, fishing and hunting  Goods-producing   \n",
       "3           K                                Construction  Goods-producing   \n",
       "4           K                                Construction  Goods-producing   \n",
       "\n",
       "   ... Shoulder  HIC_Total HIC_Rate  Emp_15plus  Emp_15.24  EmpPer_1524  \\\n",
       "0  ...       54        330     0.35       540.0       58.5        10.83   \n",
       "1  ...       54        330     0.35       540.0       58.5        10.83   \n",
       "2  ...       15         72     0.35      1547.4      149.6         9.67   \n",
       "3  ...       54        330     0.35       540.0       58.5        10.83   \n",
       "4  ...       54        330     0.35       540.0       58.5        10.83   \n",
       "\n",
       "   Emp_25.54  EmpPer_2554  Emp_55plus  EmpPer_55plus  \n",
       "0      362.5        67.13       119.0          22.04  \n",
       "1      362.5        67.13       119.0          22.04  \n",
       "2     1002.7        64.80       393.1          25.40  \n",
       "3      362.5        67.13       119.0          22.04  \n",
       "4      362.5        67.13       119.0          22.04  \n",
       "\n",
       "[5 rows x 27 columns]"
      ]
     },
     "execution_count": 4,
     "metadata": {},
     "output_type": "execute_result"
    }
   ],
   "source": [
    "#Profile report for non-transformed data\n",
    "\n",
    "data2 = pd.read_csv('Data.csv', encoding=\"ISO-8859-1\")\n",
    "del data2[\"Unnamed: 0\"]\n",
    "data2.head()"
   ]
  },
  {
   "cell_type": "code",
   "execution_count": 5,
   "metadata": {},
   "outputs": [
    {
     "data": {
      "application/vnd.jupyter.widget-view+json": {
       "model_id": "07b2d18be63b477da6f1a72c04179d13",
       "version_major": 2,
       "version_minor": 0
      },
      "text/plain": [
       "Summarize dataset:   0%|          | 0/5 [00:00<?, ?it/s]"
      ]
     },
     "metadata": {},
     "output_type": "display_data"
    },
    {
     "data": {
      "application/vnd.jupyter.widget-view+json": {
       "model_id": "05a86e61bb5e4dc1bdbd23e9b4b0de60",
       "version_major": 2,
       "version_minor": 0
      },
      "text/plain": [
       "Generate report structure:   0%|          | 0/1 [00:00<?, ?it/s]"
      ]
     },
     "metadata": {},
     "output_type": "display_data"
    },
    {
     "data": {
      "application/vnd.jupyter.widget-view+json": {
       "model_id": "e7d97663f47d4d8d954a42355a1b9eab",
       "version_major": 2,
       "version_minor": 0
      },
      "text/plain": [
       "Render HTML:   0%|          | 0/1 [00:00<?, ?it/s]"
      ]
     },
     "metadata": {},
     "output_type": "display_data"
    },
    {
     "data": {
      "application/vnd.jupyter.widget-view+json": {
       "model_id": "876134ff88084cd690dda14f99d9b4b5",
       "version_major": 2,
       "version_minor": 0
      },
      "text/plain": [
       "Export report to file:   0%|          | 0/1 [00:00<?, ?it/s]"
      ]
     },
     "metadata": {},
     "output_type": "display_data"
    }
   ],
   "source": [
    "PR2 = ProfileReport(data2, title=\"Profile Report - Inspections\")\n",
    "PR2.to_file(\"Profile_Report-Insp.html\")"
   ]
  },
  {
   "cell_type": "code",
   "execution_count": 6,
   "metadata": {},
   "outputs": [
    {
     "data": {
      "text/html": [
       "<div>\n",
       "<style scoped>\n",
       "    .dataframe tbody tr th:only-of-type {\n",
       "        vertical-align: middle;\n",
       "    }\n",
       "\n",
       "    .dataframe tbody tr th {\n",
       "        vertical-align: top;\n",
       "    }\n",
       "\n",
       "    .dataframe thead th {\n",
       "        text-align: right;\n",
       "    }\n",
       "</style>\n",
       "<table border=\"1\" class=\"dataframe\">\n",
       "  <thead>\n",
       "    <tr style=\"text-align: right;\">\n",
       "      <th></th>\n",
       "      <th>FV_D</th>\n",
       "      <th>FV_M</th>\n",
       "      <th>FV_DATE</th>\n",
       "      <th>VISIT_CODE</th>\n",
       "      <th>WP_ID</th>\n",
       "      <th>WP_NAME</th>\n",
       "      <th>WP_ADDRESS</th>\n",
       "      <th>REGION_CODE</th>\n",
       "      <th>IND_Name</th>\n",
       "      <th>IND_Cat</th>\n",
       "      <th>...</th>\n",
       "      <th>Shoulder</th>\n",
       "      <th>HIC_Total</th>\n",
       "      <th>HIC_Rate</th>\n",
       "      <th>Emp_15plus</th>\n",
       "      <th>Emp_15.24</th>\n",
       "      <th>EmpPer_1524</th>\n",
       "      <th>Emp_25.54</th>\n",
       "      <th>EmpPer_2554</th>\n",
       "      <th>Emp_55plus</th>\n",
       "      <th>EmpPer_55plus</th>\n",
       "    </tr>\n",
       "  </thead>\n",
       "  <tbody>\n",
       "    <tr>\n",
       "      <th>0</th>\n",
       "      <td>23</td>\n",
       "      <td>10</td>\n",
       "      <td>2019-10-23</td>\n",
       "      <td>2019-10-23 2123905</td>\n",
       "      <td>2123905</td>\n",
       "      <td>Solutions CMD</td>\n",
       "      <td>275 Daniel Street, Arnprior - Renfrew - Arnpri...</td>\n",
       "      <td>K</td>\n",
       "      <td>Construction</td>\n",
       "      <td>Goods-producing</td>\n",
       "      <td>...</td>\n",
       "      <td>54</td>\n",
       "      <td>330</td>\n",
       "      <td>0.35</td>\n",
       "      <td>540.0</td>\n",
       "      <td>58.5</td>\n",
       "      <td>10.83</td>\n",
       "      <td>362.5</td>\n",
       "      <td>67.13</td>\n",
       "      <td>119.0</td>\n",
       "      <td>22.04</td>\n",
       "    </tr>\n",
       "    <tr>\n",
       "      <th>1</th>\n",
       "      <td>23</td>\n",
       "      <td>10</td>\n",
       "      <td>2019-10-23</td>\n",
       "      <td>2019-10-23 2123905</td>\n",
       "      <td>2123905</td>\n",
       "      <td>Solutions CMD</td>\n",
       "      <td>275 Daniel Street, Arnprior - Renfrew - Arnpri...</td>\n",
       "      <td>K</td>\n",
       "      <td>Construction</td>\n",
       "      <td>Goods-producing</td>\n",
       "      <td>...</td>\n",
       "      <td>54</td>\n",
       "      <td>330</td>\n",
       "      <td>0.35</td>\n",
       "      <td>540.0</td>\n",
       "      <td>58.5</td>\n",
       "      <td>10.83</td>\n",
       "      <td>362.5</td>\n",
       "      <td>67.13</td>\n",
       "      <td>119.0</td>\n",
       "      <td>22.04</td>\n",
       "    </tr>\n",
       "    <tr>\n",
       "      <th>2</th>\n",
       "      <td>3</td>\n",
       "      <td>12</td>\n",
       "      <td>2019-12-03</td>\n",
       "      <td>2019-12-03 2133400</td>\n",
       "      <td>2133400</td>\n",
       "      <td>Pierre Richer</td>\n",
       "      <td>56 Marenger Rue, Gatineau - Gatineau - Gatinea...</td>\n",
       "      <td>K</td>\n",
       "      <td>Construction</td>\n",
       "      <td>Goods-producing</td>\n",
       "      <td>...</td>\n",
       "      <td>54</td>\n",
       "      <td>330</td>\n",
       "      <td>0.35</td>\n",
       "      <td>540.0</td>\n",
       "      <td>58.5</td>\n",
       "      <td>10.83</td>\n",
       "      <td>362.5</td>\n",
       "      <td>67.13</td>\n",
       "      <td>119.0</td>\n",
       "      <td>22.04</td>\n",
       "    </tr>\n",
       "    <tr>\n",
       "      <th>3</th>\n",
       "      <td>8</td>\n",
       "      <td>1</td>\n",
       "      <td>2019-01-08</td>\n",
       "      <td>2019-01-08 2012482</td>\n",
       "      <td>2012482</td>\n",
       "      <td>D S CONSTRUCTION</td>\n",
       "      <td>Listowel - Perth - North Perth, ON, CANADA LOT...</td>\n",
       "      <td>K</td>\n",
       "      <td>Construction</td>\n",
       "      <td>Goods-producing</td>\n",
       "      <td>...</td>\n",
       "      <td>54</td>\n",
       "      <td>330</td>\n",
       "      <td>0.35</td>\n",
       "      <td>540.0</td>\n",
       "      <td>58.5</td>\n",
       "      <td>10.83</td>\n",
       "      <td>362.5</td>\n",
       "      <td>67.13</td>\n",
       "      <td>119.0</td>\n",
       "      <td>22.04</td>\n",
       "    </tr>\n",
       "    <tr>\n",
       "      <th>4</th>\n",
       "      <td>16</td>\n",
       "      <td>1</td>\n",
       "      <td>2019-01-16</td>\n",
       "      <td>2019-01-16 2055708</td>\n",
       "      <td>2055708</td>\n",
       "      <td>Foresterie Malloy Inc</td>\n",
       "      <td>132 bisson Rang, Sherbrooke Township - Haldima...</td>\n",
       "      <td>K</td>\n",
       "      <td>Agriculture, forestry, fishing and hunting</td>\n",
       "      <td>Goods-producing</td>\n",
       "      <td>...</td>\n",
       "      <td>15</td>\n",
       "      <td>72</td>\n",
       "      <td>0.35</td>\n",
       "      <td>1547.4</td>\n",
       "      <td>149.6</td>\n",
       "      <td>9.67</td>\n",
       "      <td>1002.7</td>\n",
       "      <td>64.80</td>\n",
       "      <td>393.1</td>\n",
       "      <td>25.40</td>\n",
       "    </tr>\n",
       "  </tbody>\n",
       "</table>\n",
       "<p>5 rows × 41 columns</p>\n",
       "</div>"
      ],
      "text/plain": [
       "   FV_D  FV_M     FV_DATE          VISIT_CODE    WP_ID  \\\n",
       "0    23    10  2019-10-23  2019-10-23 2123905  2123905   \n",
       "1    23    10  2019-10-23  2019-10-23 2123905  2123905   \n",
       "2     3    12  2019-12-03  2019-12-03 2133400  2133400   \n",
       "3     8     1  2019-01-08  2019-01-08 2012482  2012482   \n",
       "4    16     1  2019-01-16  2019-01-16 2055708  2055708   \n",
       "\n",
       "                  WP_NAME                                         WP_ADDRESS  \\\n",
       "0           Solutions CMD  275 Daniel Street, Arnprior - Renfrew - Arnpri...   \n",
       "1           Solutions CMD  275 Daniel Street, Arnprior - Renfrew - Arnpri...   \n",
       "2           Pierre Richer  56 Marenger Rue, Gatineau - Gatineau - Gatinea...   \n",
       "3        D S CONSTRUCTION  Listowel - Perth - North Perth, ON, CANADA LOT...   \n",
       "4  Foresterie Malloy Inc   132 bisson Rang, Sherbrooke Township - Haldima...   \n",
       "\n",
       "  REGION_CODE                                    IND_Name          IND_Cat  \\\n",
       "0           K                                Construction  Goods-producing   \n",
       "1           K                                Construction  Goods-producing   \n",
       "2           K                                Construction  Goods-producing   \n",
       "3           K                                Construction  Goods-producing   \n",
       "4           K  Agriculture, forestry, fishing and hunting  Goods-producing   \n",
       "\n",
       "   ... Shoulder  HIC_Total HIC_Rate  Emp_15plus Emp_15.24 EmpPer_1524  \\\n",
       "0  ...       54        330     0.35       540.0      58.5       10.83   \n",
       "1  ...       54        330     0.35       540.0      58.5       10.83   \n",
       "2  ...       54        330     0.35       540.0      58.5       10.83   \n",
       "3  ...       54        330     0.35       540.0      58.5       10.83   \n",
       "4  ...       15         72     0.35      1547.4     149.6        9.67   \n",
       "\n",
       "  Emp_25.54 EmpPer_2554 Emp_55plus EmpPer_55plus  \n",
       "0     362.5       67.13      119.0         22.04  \n",
       "1     362.5       67.13      119.0         22.04  \n",
       "2     362.5       67.13      119.0         22.04  \n",
       "3     362.5       67.13      119.0         22.04  \n",
       "4    1002.7       64.80      393.1         25.40  \n",
       "\n",
       "[5 rows x 41 columns]"
      ]
     },
     "execution_count": 6,
     "metadata": {},
     "output_type": "execute_result"
    }
   ],
   "source": [
    "#Profile report for all inspection data\n",
    "data3 = pd.read_csv('Data_ALL.csv', encoding=\"ISO-8859-1\")\n",
    "del data3[\"Unnamed: 0\"]\n",
    "data3.head()"
   ]
  },
  {
   "cell_type": "code",
   "execution_count": 7,
   "metadata": {},
   "outputs": [
    {
     "data": {
      "application/vnd.jupyter.widget-view+json": {
       "model_id": "e5750494445e474b879396742bafa07d",
       "version_major": 2,
       "version_minor": 0
      },
      "text/plain": [
       "Summarize dataset:   0%|          | 0/5 [00:00<?, ?it/s]"
      ]
     },
     "metadata": {},
     "output_type": "display_data"
    },
    {
     "name": "stderr",
     "output_type": "stream",
     "text": [
      "C:\\Users\\eddym\\anaconda3\\lib\\site-packages\\scipy\\stats\\stats.py:4812: RuntimeWarning: overflow encountered in longlong_scalars\n",
      "  (2 * xtie * ytie) / m + x0 * y0 / (9 * m * (size - 2)))\n"
     ]
    },
    {
     "data": {
      "application/vnd.jupyter.widget-view+json": {
       "model_id": "89d3f5ea52ea44aeba8244b73f1bfa8d",
       "version_major": 2,
       "version_minor": 0
      },
      "text/plain": [
       "Generate report structure:   0%|          | 0/1 [00:00<?, ?it/s]"
      ]
     },
     "metadata": {},
     "output_type": "display_data"
    },
    {
     "data": {
      "application/vnd.jupyter.widget-view+json": {
       "model_id": "ddfd54d637d94303bb01ea41ca0e3cbb",
       "version_major": 2,
       "version_minor": 0
      },
      "text/plain": [
       "Render HTML:   0%|          | 0/1 [00:00<?, ?it/s]"
      ]
     },
     "metadata": {},
     "output_type": "display_data"
    },
    {
     "data": {
      "application/vnd.jupyter.widget-view+json": {
       "model_id": "2ce3cd0693a9421e98de17b4d1c5e29d",
       "version_major": 2,
       "version_minor": 0
      },
      "text/plain": [
       "Export report to file:   0%|          | 0/1 [00:00<?, ?it/s]"
      ]
     },
     "metadata": {},
     "output_type": "display_data"
    }
   ],
   "source": [
    "PR3 = ProfileReport(data3, title=\"Profile Report - Inspections_ALL\")\n",
    "PR3.to_file(\"Profile_Report-Insp_ALL.html\")"
   ]
  }
 ],
 "metadata": {
  "kernelspec": {
   "display_name": "Python 3",
   "language": "python",
   "name": "python3"
  },
  "language_info": {
   "codemirror_mode": {
    "name": "ipython",
    "version": 3
   },
   "file_extension": ".py",
   "mimetype": "text/x-python",
   "name": "python",
   "nbconvert_exporter": "python",
   "pygments_lexer": "ipython3",
   "version": "3.9.12"
  },
  "vscode": {
   "interpreter": {
    "hash": "ab70870c1f8317a66486147f20e8ace8ebdb0c62b89cdaca8750e70127690ff6"
   }
  }
 },
 "nbformat": 4,
 "nbformat_minor": 2
}
