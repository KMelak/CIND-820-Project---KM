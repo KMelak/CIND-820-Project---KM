{
 "cells": [
  {
   "cell_type": "code",
   "execution_count": 1,
   "id": "30039ca9",
   "metadata": {},
   "outputs": [],
   "source": [
    "import pandas as pd\n",
    "import numpy as np\n"
   ]
  },
  {
   "cell_type": "code",
   "execution_count": 2,
   "id": "10bc9386",
   "metadata": {},
   "outputs": [],
   "source": [
    "#import necessary packages\n",
    "from matplotlib import pyplot as plt\n",
    "from numpy import mean\n",
    "from numpy import std\n",
    "from math import sqrt\n",
    "from scipy.stats import sem\n",
    "from scipy import stats\n",
    "from sklearn.model_selection import train_test_split\n",
    "from sklearn.neighbors import KNeighborsClassifier  \n",
    "from sklearn.model_selection import RepeatedStratifiedKFold\n",
    "from sklearn.model_selection import RepeatedKFold\n",
    "from sklearn.model_selection import cross_val_score\n",
    "from sklearn.model_selection import GridSearchCV\n",
    "from sklearn import metrics"
   ]
  },
  {
   "cell_type": "code",
   "execution_count": 3,
   "id": "09620438",
   "metadata": {},
   "outputs": [
    {
     "data": {
      "text/html": [
       "<div>\n",
       "<style scoped>\n",
       "    .dataframe tbody tr th:only-of-type {\n",
       "        vertical-align: middle;\n",
       "    }\n",
       "\n",
       "    .dataframe tbody tr th {\n",
       "        vertical-align: top;\n",
       "    }\n",
       "\n",
       "    .dataframe thead th {\n",
       "        text-align: right;\n",
       "    }\n",
       "</style>\n",
       "<table border=\"1\" class=\"dataframe\">\n",
       "  <thead>\n",
       "    <tr style=\"text-align: right;\">\n",
       "      <th></th>\n",
       "      <th>FV_D</th>\n",
       "      <th>FV_M</th>\n",
       "      <th>FV_DATE</th>\n",
       "      <th>VISIT_CODE</th>\n",
       "      <th>WP_ID</th>\n",
       "      <th>NAICS</th>\n",
       "      <th>RegCode</th>\n",
       "      <th>INDCode</th>\n",
       "      <th>HICCode</th>\n",
       "      <th>HICPerCode</th>\n",
       "      <th>E1524Code</th>\n",
       "      <th>E2554Code</th>\n",
       "      <th>E55pCode</th>\n",
       "      <th>ConCode</th>\n",
       "      <th>Claims_Code</th>\n",
       "    </tr>\n",
       "  </thead>\n",
       "  <tbody>\n",
       "    <tr>\n",
       "      <th>0</th>\n",
       "      <td>29</td>\n",
       "      <td>6</td>\n",
       "      <td>2019-06-29</td>\n",
       "      <td>2019-06-29 2093649</td>\n",
       "      <td>2093649</td>\n",
       "      <td>812115</td>\n",
       "      <td>3</td>\n",
       "      <td>10</td>\n",
       "      <td>1</td>\n",
       "      <td>2</td>\n",
       "      <td>1</td>\n",
       "      <td>1</td>\n",
       "      <td>2</td>\n",
       "      <td>1</td>\n",
       "      <td>1</td>\n",
       "    </tr>\n",
       "    <tr>\n",
       "      <th>1</th>\n",
       "      <td>25</td>\n",
       "      <td>2</td>\n",
       "      <td>2019-02-25</td>\n",
       "      <td>2019-02-25 1095872</td>\n",
       "      <td>1095872</td>\n",
       "      <td>812330</td>\n",
       "      <td>2</td>\n",
       "      <td>10</td>\n",
       "      <td>2</td>\n",
       "      <td>2</td>\n",
       "      <td>1</td>\n",
       "      <td>1</td>\n",
       "      <td>2</td>\n",
       "      <td>4</td>\n",
       "      <td>1</td>\n",
       "    </tr>\n",
       "    <tr>\n",
       "      <th>2</th>\n",
       "      <td>19</td>\n",
       "      <td>6</td>\n",
       "      <td>2019-06-19</td>\n",
       "      <td>2019-06-19 2091294</td>\n",
       "      <td>2091294</td>\n",
       "      <td>812190</td>\n",
       "      <td>2</td>\n",
       "      <td>10</td>\n",
       "      <td>2</td>\n",
       "      <td>2</td>\n",
       "      <td>1</td>\n",
       "      <td>1</td>\n",
       "      <td>2</td>\n",
       "      <td>4</td>\n",
       "      <td>1</td>\n",
       "    </tr>\n",
       "    <tr>\n",
       "      <th>3</th>\n",
       "      <td>6</td>\n",
       "      <td>5</td>\n",
       "      <td>2019-05-06</td>\n",
       "      <td>2019-05-06 2029237</td>\n",
       "      <td>2029237</td>\n",
       "      <td>238990</td>\n",
       "      <td>4</td>\n",
       "      <td>4</td>\n",
       "      <td>5</td>\n",
       "      <td>5</td>\n",
       "      <td>2</td>\n",
       "      <td>2</td>\n",
       "      <td>2</td>\n",
       "      <td>1</td>\n",
       "      <td>3</td>\n",
       "    </tr>\n",
       "    <tr>\n",
       "      <th>4</th>\n",
       "      <td>25</td>\n",
       "      <td>10</td>\n",
       "      <td>2019-10-25</td>\n",
       "      <td>2019-10-25 2125435</td>\n",
       "      <td>2125435</td>\n",
       "      <td>236110</td>\n",
       "      <td>4</td>\n",
       "      <td>4</td>\n",
       "      <td>5</td>\n",
       "      <td>5</td>\n",
       "      <td>2</td>\n",
       "      <td>2</td>\n",
       "      <td>2</td>\n",
       "      <td>3</td>\n",
       "      <td>3</td>\n",
       "    </tr>\n",
       "  </tbody>\n",
       "</table>\n",
       "</div>"
      ],
      "text/plain": [
       "   FV_D  FV_M     FV_DATE          VISIT_CODE    WP_ID   NAICS  RegCode  \\\n",
       "0    29     6  2019-06-29  2019-06-29 2093649  2093649  812115        3   \n",
       "1    25     2  2019-02-25  2019-02-25 1095872  1095872  812330        2   \n",
       "2    19     6  2019-06-19  2019-06-19 2091294  2091294  812190        2   \n",
       "3     6     5  2019-05-06  2019-05-06 2029237  2029237  238990        4   \n",
       "4    25    10  2019-10-25  2019-10-25 2125435  2125435  236110        4   \n",
       "\n",
       "   INDCode  HICCode  HICPerCode  E1524Code  E2554Code  E55pCode  ConCode  \\\n",
       "0       10        1           2          1          1         2        1   \n",
       "1       10        2           2          1          1         2        4   \n",
       "2       10        2           2          1          1         2        4   \n",
       "3        4        5           5          2          2         2        1   \n",
       "4        4        5           5          2          2         2        3   \n",
       "\n",
       "   Claims_Code  \n",
       "0            1  \n",
       "1            1  \n",
       "2            1  \n",
       "3            3  \n",
       "4            3  "
      ]
     },
     "execution_count": 3,
     "metadata": {},
     "output_type": "execute_result"
    }
   ],
   "source": [
    "#Import the data --> this file represents only the train set\n",
    "data = pd.read_csv(\"Train_set_CC.csv\", encoding = \"latin-1\")\n",
    "del data[\"Unnamed: 0\"]\n",
    "data.head()"
   ]
  },
  {
   "cell_type": "code",
   "execution_count": 5,
   "id": "ad39081e",
   "metadata": {},
   "outputs": [
    {
     "name": "stdout",
     "output_type": "stream",
     "text": [
      "<class 'pandas.core.frame.DataFrame'>\n",
      "RangeIndex: 19070 entries, 0 to 19069\n",
      "Data columns (total 15 columns):\n",
      " #   Column       Non-Null Count  Dtype \n",
      "---  ------       --------------  ----- \n",
      " 0   FV_D         19070 non-null  int64 \n",
      " 1   FV_M         19070 non-null  int64 \n",
      " 2   FV_DATE      19070 non-null  object\n",
      " 3   VISIT_CODE   19070 non-null  object\n",
      " 4   WP_ID        19070 non-null  int64 \n",
      " 5   NAICS        19070 non-null  int64 \n",
      " 6   RegCode      19070 non-null  int64 \n",
      " 7   INDCode      19070 non-null  int64 \n",
      " 8   HICCode      19070 non-null  int64 \n",
      " 9   HICPerCode   19070 non-null  int64 \n",
      " 10  E1524Code    19070 non-null  int64 \n",
      " 11  E2554Code    19070 non-null  int64 \n",
      " 12  E55pCode     19070 non-null  int64 \n",
      " 13  ConCode      19070 non-null  int64 \n",
      " 14  Claims_Code  19070 non-null  int64 \n",
      "dtypes: int64(13), object(2)\n",
      "memory usage: 2.2+ MB\n"
     ]
    }
   ],
   "source": [
    "data.info()"
   ]
  },
  {
   "cell_type": "code",
   "execution_count": 6,
   "id": "fcce6a12",
   "metadata": {},
   "outputs": [
    {
     "data": {
      "text/plain": [
       "FV_D           0\n",
       "FV_M           0\n",
       "FV_DATE        0\n",
       "VISIT_CODE     0\n",
       "WP_ID          0\n",
       "NAICS          0\n",
       "RegCode        0\n",
       "INDCode        0\n",
       "HICCode        0\n",
       "HICPerCode     0\n",
       "E1524Code      0\n",
       "E2554Code      0\n",
       "E55pCode       0\n",
       "ConCode        0\n",
       "Claims_Code    0\n",
       "dtype: int64"
      ]
     },
     "execution_count": 6,
     "metadata": {},
     "output_type": "execute_result"
    }
   ],
   "source": [
    "data.isnull().sum()"
   ]
  },
  {
   "cell_type": "markdown",
   "id": "16d87507",
   "metadata": {},
   "source": [
    "Split data into 70:30 train / validation sets"
   ]
  },
  {
   "cell_type": "code",
   "execution_count": 6,
   "id": "12a53805",
   "metadata": {},
   "outputs": [
    {
     "name": "stdout",
     "output_type": "stream",
     "text": [
      "['FV_D', 'FV_M', 'WP_ID', 'NAICS', 'RegCode', 'INDCode', 'HICCode', 'HICPerCode', 'E1524Code', 'E2554Code', 'E55pCode', 'ConCode']\n",
      "(19070, 12) (19070,)\n",
      "4    4527\n",
      "1    4089\n",
      "2    4063\n",
      "5    3377\n",
      "3    3014\n",
      "Name: Claims_Code, dtype: int64\n"
     ]
    }
   ],
   "source": [
    "#using the train set define the features (X) and target (y) --> using Claims_Code as dependent variable\n",
    "#includes all features\n",
    "\n",
    "X = data.drop(['FV_DATE', 'VISIT_CODE','Claims_Code'], axis=1)\n",
    "y = data['Claims_Code']\n",
    "\n",
    "print(list(X.columns.values))  #Features used in the model\n",
    "print(X.shape, y.shape)\n",
    "print(y.value_counts())"
   ]
  },
  {
   "cell_type": "code",
   "execution_count": 7,
   "id": "7bacb832",
   "metadata": {},
   "outputs": [
    {
     "name": "stdout",
     "output_type": "stream",
     "text": [
      "['RegCode', 'INDCode', 'HICCode', 'E2554Code']\n",
      "(19070, 4) (19070,)\n",
      "4    4527\n",
      "1    4089\n",
      "2    4063\n",
      "5    3377\n",
      "3    3014\n",
      "Name: Claims_Code, dtype: int64\n"
     ]
    }
   ],
   "source": [
    "#using the train set define the features (X) and target (y) --> using Claims_Code as dependent variable\n",
    "#features identified during Feature Selection via RFE  -->  RegCode, INDCode, HICCode, E2554Code\n",
    "\n",
    "X = data.drop(['FV_D', 'FV_M','FV_DATE', 'VISIT_CODE', 'WP_ID', 'NAICS', 'HICPerCode','E1524Code', 'E55pCode','ConCode','Claims_Code'], axis=1)\n",
    "y = data['Claims_Code']\n",
    "print(list(X.columns.values))  #Features used in the model\n",
    "print(X.shape, y.shape)\n",
    "print(y.value_counts())"
   ]
  },
  {
   "cell_type": "code",
   "execution_count": 42,
   "id": "82ed0c2c",
   "metadata": {},
   "outputs": [
    {
     "name": "stdout",
     "output_type": "stream",
     "text": [
      "['WP_ID', 'NAICS', 'INDCode', 'HICCode', 'HICPerCode']\n",
      "(19070, 5) (19070,)\n",
      "4    4527\n",
      "1    4089\n",
      "2    4063\n",
      "5    3377\n",
      "3    3014\n",
      "Name: Claims_Code, dtype: int64\n"
     ]
    }
   ],
   "source": [
    "#using the train set define the features (X) and target (y) --> using Claims_Code as dependent variable\n",
    "#features identified during Feature Selection via chi^2 method -->  'WP_ID', 'NAICS','INDCode', 'HICCode', 'HICPerCode'\n",
    "X = data.drop(['FV_D', 'FV_M', 'FV_DATE', 'VISIT_CODE', 'RegCode', 'E2554Code', 'E1524Code', 'E55pCode','ConCode', 'Claims_Code'], axis=1)\n",
    "y = data['Claims_Code']\n",
    "\n",
    "print(list(X.columns.values))  #Features used in the model\n",
    "print(X.shape, y.shape)\n",
    "print(y.value_counts())"
   ]
  },
  {
   "cell_type": "code",
   "execution_count": 43,
   "id": "356d3fc5",
   "metadata": {},
   "outputs": [],
   "source": [
    "X_tr, X_ts, y_tr, y_ts = train_test_split(X, y,  train_size = .70, random_state = 23)"
   ]
  },
  {
   "cell_type": "markdown",
   "id": "bfac7d17",
   "metadata": {},
   "source": [
    "K NEAREST NEIGHBOURS MODEL"
   ]
  },
  {
   "cell_type": "code",
   "execution_count": 12,
   "id": "7cfacdb0",
   "metadata": {},
   "outputs": [
    {
     "name": "stdout",
     "output_type": "stream",
     "text": [
      "Help on class KNeighborsClassifier in module sklearn.neighbors._classification:\n",
      "\n",
      "class KNeighborsClassifier(sklearn.neighbors._base.KNeighborsMixin, sklearn.base.ClassifierMixin, sklearn.neighbors._base.NeighborsBase)\n",
      " |  KNeighborsClassifier(n_neighbors=5, *, weights='uniform', algorithm='auto', leaf_size=30, p=2, metric='minkowski', metric_params=None, n_jobs=None)\n",
      " |  \n",
      " |  Classifier implementing the k-nearest neighbors vote.\n",
      " |  \n",
      " |  Read more in the :ref:`User Guide <classification>`.\n",
      " |  \n",
      " |  Parameters\n",
      " |  ----------\n",
      " |  n_neighbors : int, default=5\n",
      " |      Number of neighbors to use by default for :meth:`kneighbors` queries.\n",
      " |  \n",
      " |  weights : {'uniform', 'distance'} or callable, default='uniform'\n",
      " |      Weight function used in prediction.  Possible values:\n",
      " |  \n",
      " |      - 'uniform' : uniform weights.  All points in each neighborhood\n",
      " |        are weighted equally.\n",
      " |      - 'distance' : weight points by the inverse of their distance.\n",
      " |        in this case, closer neighbors of a query point will have a\n",
      " |        greater influence than neighbors which are further away.\n",
      " |      - [callable] : a user-defined function which accepts an\n",
      " |        array of distances, and returns an array of the same shape\n",
      " |        containing the weights.\n",
      " |  \n",
      " |  algorithm : {'auto', 'ball_tree', 'kd_tree', 'brute'}, default='auto'\n",
      " |      Algorithm used to compute the nearest neighbors:\n",
      " |  \n",
      " |      - 'ball_tree' will use :class:`BallTree`\n",
      " |      - 'kd_tree' will use :class:`KDTree`\n",
      " |      - 'brute' will use a brute-force search.\n",
      " |      - 'auto' will attempt to decide the most appropriate algorithm\n",
      " |        based on the values passed to :meth:`fit` method.\n",
      " |  \n",
      " |      Note: fitting on sparse input will override the setting of\n",
      " |      this parameter, using brute force.\n",
      " |  \n",
      " |  leaf_size : int, default=30\n",
      " |      Leaf size passed to BallTree or KDTree.  This can affect the\n",
      " |      speed of the construction and query, as well as the memory\n",
      " |      required to store the tree.  The optimal value depends on the\n",
      " |      nature of the problem.\n",
      " |  \n",
      " |  p : int, default=2\n",
      " |      Power parameter for the Minkowski metric. When p = 1, this is\n",
      " |      equivalent to using manhattan_distance (l1), and euclidean_distance\n",
      " |      (l2) for p = 2. For arbitrary p, minkowski_distance (l_p) is used.\n",
      " |  \n",
      " |  metric : str or callable, default='minkowski'\n",
      " |      The distance metric to use for the tree.  The default metric is\n",
      " |      minkowski, and with p=2 is equivalent to the standard Euclidean\n",
      " |      metric. For a list of available metrics, see the documentation of\n",
      " |      :class:`~sklearn.metrics.DistanceMetric`.\n",
      " |      If metric is \"precomputed\", X is assumed to be a distance matrix and\n",
      " |      must be square during fit. X may be a :term:`sparse graph`,\n",
      " |      in which case only \"nonzero\" elements may be considered neighbors.\n",
      " |  \n",
      " |  metric_params : dict, default=None\n",
      " |      Additional keyword arguments for the metric function.\n",
      " |  \n",
      " |  n_jobs : int, default=None\n",
      " |      The number of parallel jobs to run for neighbors search.\n",
      " |      ``None`` means 1 unless in a :obj:`joblib.parallel_backend` context.\n",
      " |      ``-1`` means using all processors. See :term:`Glossary <n_jobs>`\n",
      " |      for more details.\n",
      " |      Doesn't affect :meth:`fit` method.\n",
      " |  \n",
      " |  Attributes\n",
      " |  ----------\n",
      " |  classes_ : array of shape (n_classes,)\n",
      " |      Class labels known to the classifier\n",
      " |  \n",
      " |  effective_metric_ : str or callble\n",
      " |      The distance metric used. It will be same as the `metric` parameter\n",
      " |      or a synonym of it, e.g. 'euclidean' if the `metric` parameter set to\n",
      " |      'minkowski' and `p` parameter set to 2.\n",
      " |  \n",
      " |  effective_metric_params_ : dict\n",
      " |      Additional keyword arguments for the metric function. For most metrics\n",
      " |      will be same with `metric_params` parameter, but may also contain the\n",
      " |      `p` parameter value if the `effective_metric_` attribute is set to\n",
      " |      'minkowski'.\n",
      " |  \n",
      " |  n_features_in_ : int\n",
      " |      Number of features seen during :term:`fit`.\n",
      " |  \n",
      " |      .. versionadded:: 0.24\n",
      " |  \n",
      " |  feature_names_in_ : ndarray of shape (`n_features_in_`,)\n",
      " |      Names of features seen during :term:`fit`. Defined only when `X`\n",
      " |      has feature names that are all strings.\n",
      " |  \n",
      " |      .. versionadded:: 1.0\n",
      " |  \n",
      " |  n_samples_fit_ : int\n",
      " |      Number of samples in the fitted data.\n",
      " |  \n",
      " |  outputs_2d_ : bool\n",
      " |      False when `y`'s shape is (n_samples, ) or (n_samples, 1) during fit\n",
      " |      otherwise True.\n",
      " |  \n",
      " |  See Also\n",
      " |  --------\n",
      " |  RadiusNeighborsClassifier: Classifier based on neighbors within a fixed radius.\n",
      " |  KNeighborsRegressor: Regression based on k-nearest neighbors.\n",
      " |  RadiusNeighborsRegressor: Regression based on neighbors within a fixed radius.\n",
      " |  NearestNeighbors: Unsupervised learner for implementing neighbor searches.\n",
      " |  \n",
      " |  Notes\n",
      " |  -----\n",
      " |  See :ref:`Nearest Neighbors <neighbors>` in the online documentation\n",
      " |  for a discussion of the choice of ``algorithm`` and ``leaf_size``.\n",
      " |  \n",
      " |  .. warning::\n",
      " |  \n",
      " |     Regarding the Nearest Neighbors algorithms, if it is found that two\n",
      " |     neighbors, neighbor `k+1` and `k`, have identical distances\n",
      " |     but different labels, the results will depend on the ordering of the\n",
      " |     training data.\n",
      " |  \n",
      " |  https://en.wikipedia.org/wiki/K-nearest_neighbor_algorithm\n",
      " |  \n",
      " |  Examples\n",
      " |  --------\n",
      " |  >>> X = [[0], [1], [2], [3]]\n",
      " |  >>> y = [0, 0, 1, 1]\n",
      " |  >>> from sklearn.neighbors import KNeighborsClassifier\n",
      " |  >>> neigh = KNeighborsClassifier(n_neighbors=3)\n",
      " |  >>> neigh.fit(X, y)\n",
      " |  KNeighborsClassifier(...)\n",
      " |  >>> print(neigh.predict([[1.1]]))\n",
      " |  [0]\n",
      " |  >>> print(neigh.predict_proba([[0.9]]))\n",
      " |  [[0.666... 0.333...]]\n",
      " |  \n",
      " |  Method resolution order:\n",
      " |      KNeighborsClassifier\n",
      " |      sklearn.neighbors._base.KNeighborsMixin\n",
      " |      sklearn.base.ClassifierMixin\n",
      " |      sklearn.neighbors._base.NeighborsBase\n",
      " |      sklearn.base.MultiOutputMixin\n",
      " |      sklearn.base.BaseEstimator\n",
      " |      builtins.object\n",
      " |  \n",
      " |  Methods defined here:\n",
      " |  \n",
      " |  __init__(self, n_neighbors=5, *, weights='uniform', algorithm='auto', leaf_size=30, p=2, metric='minkowski', metric_params=None, n_jobs=None)\n",
      " |      Initialize self.  See help(type(self)) for accurate signature.\n",
      " |  \n",
      " |  fit(self, X, y)\n",
      " |      Fit the k-nearest neighbors classifier from the training dataset.\n",
      " |      \n",
      " |      Parameters\n",
      " |      ----------\n",
      " |      X : {array-like, sparse matrix} of shape (n_samples, n_features) or                 (n_samples, n_samples) if metric='precomputed'\n",
      " |          Training data.\n",
      " |      \n",
      " |      y : {array-like, sparse matrix} of shape (n_samples,) or                 (n_samples, n_outputs)\n",
      " |          Target values.\n",
      " |      \n",
      " |      Returns\n",
      " |      -------\n",
      " |      self : KNeighborsClassifier\n",
      " |          The fitted k-nearest neighbors classifier.\n",
      " |  \n",
      " |  predict(self, X)\n",
      " |      Predict the class labels for the provided data.\n",
      " |      \n",
      " |      Parameters\n",
      " |      ----------\n",
      " |      X : array-like of shape (n_queries, n_features),                 or (n_queries, n_indexed) if metric == 'precomputed'\n",
      " |          Test samples.\n",
      " |      \n",
      " |      Returns\n",
      " |      -------\n",
      " |      y : ndarray of shape (n_queries,) or (n_queries, n_outputs)\n",
      " |          Class labels for each data sample.\n",
      " |  \n",
      " |  predict_proba(self, X)\n",
      " |      Return probability estimates for the test data X.\n",
      " |      \n",
      " |      Parameters\n",
      " |      ----------\n",
      " |      X : array-like of shape (n_queries, n_features),                 or (n_queries, n_indexed) if metric == 'precomputed'\n",
      " |          Test samples.\n",
      " |      \n",
      " |      Returns\n",
      " |      -------\n",
      " |      p : ndarray of shape (n_queries, n_classes), or a list of n_outputs                 of such arrays if n_outputs > 1.\n",
      " |          The class probabilities of the input samples. Classes are ordered\n",
      " |          by lexicographic order.\n",
      " |  \n",
      " |  ----------------------------------------------------------------------\n",
      " |  Data and other attributes defined here:\n",
      " |  \n",
      " |  __abstractmethods__ = frozenset()\n",
      " |  \n",
      " |  ----------------------------------------------------------------------\n",
      " |  Methods inherited from sklearn.neighbors._base.KNeighborsMixin:\n",
      " |  \n",
      " |  kneighbors(self, X=None, n_neighbors=None, return_distance=True)\n",
      " |      Find the K-neighbors of a point.\n",
      " |      \n",
      " |      Returns indices of and distances to the neighbors of each point.\n",
      " |      \n",
      " |      Parameters\n",
      " |      ----------\n",
      " |      X : array-like, shape (n_queries, n_features),             or (n_queries, n_indexed) if metric == 'precomputed',                 default=None\n",
      " |          The query point or points.\n",
      " |          If not provided, neighbors of each indexed point are returned.\n",
      " |          In this case, the query point is not considered its own neighbor.\n",
      " |      \n",
      " |      n_neighbors : int, default=None\n",
      " |          Number of neighbors required for each sample. The default is the\n",
      " |          value passed to the constructor.\n",
      " |      \n",
      " |      return_distance : bool, default=True\n",
      " |          Whether or not to return the distances.\n",
      " |      \n",
      " |      Returns\n",
      " |      -------\n",
      " |      neigh_dist : ndarray of shape (n_queries, n_neighbors)\n",
      " |          Array representing the lengths to points, only present if\n",
      " |          return_distance=True.\n",
      " |      \n",
      " |      neigh_ind : ndarray of shape (n_queries, n_neighbors)\n",
      " |          Indices of the nearest points in the population matrix.\n",
      " |      \n",
      " |      Examples\n",
      " |      --------\n",
      " |      In the following example, we construct a NearestNeighbors\n",
      " |      class from an array representing our data set and ask who's\n",
      " |      the closest point to [1,1,1]\n",
      " |      \n",
      " |      >>> samples = [[0., 0., 0.], [0., .5, 0.], [1., 1., .5]]\n",
      " |      >>> from sklearn.neighbors import NearestNeighbors\n",
      " |      >>> neigh = NearestNeighbors(n_neighbors=1)\n",
      " |      >>> neigh.fit(samples)\n",
      " |      NearestNeighbors(n_neighbors=1)\n",
      " |      >>> print(neigh.kneighbors([[1., 1., 1.]]))\n",
      " |      (array([[0.5]]), array([[2]]))\n",
      " |      \n",
      " |      As you can see, it returns [[0.5]], and [[2]], which means that the\n",
      " |      element is at distance 0.5 and is the third element of samples\n",
      " |      (indexes start at 0). You can also query for multiple points:\n",
      " |      \n",
      " |      >>> X = [[0., 1., 0.], [1., 0., 1.]]\n",
      " |      >>> neigh.kneighbors(X, return_distance=False)\n",
      " |      array([[1],\n",
      " |             [2]]...)\n",
      " |  \n",
      " |  kneighbors_graph(self, X=None, n_neighbors=None, mode='connectivity')\n",
      " |      Compute the (weighted) graph of k-Neighbors for points in X.\n",
      " |      \n",
      " |      Parameters\n",
      " |      ----------\n",
      " |      X : array-like of shape (n_queries, n_features),                 or (n_queries, n_indexed) if metric == 'precomputed',                 default=None\n",
      " |          The query point or points.\n",
      " |          If not provided, neighbors of each indexed point are returned.\n",
      " |          In this case, the query point is not considered its own neighbor.\n",
      " |          For ``metric='precomputed'`` the shape should be\n",
      " |          (n_queries, n_indexed). Otherwise the shape should be\n",
      " |          (n_queries, n_features).\n",
      " |      \n",
      " |      n_neighbors : int, default=None\n",
      " |          Number of neighbors for each sample. The default is the value\n",
      " |          passed to the constructor.\n",
      " |      \n",
      " |      mode : {'connectivity', 'distance'}, default='connectivity'\n",
      " |          Type of returned matrix: 'connectivity' will return the\n",
      " |          connectivity matrix with ones and zeros, in 'distance' the\n",
      " |          edges are distances between points, type of distance\n",
      " |          depends on the selected metric parameter in\n",
      " |          NearestNeighbors class.\n",
      " |      \n",
      " |      Returns\n",
      " |      -------\n",
      " |      A : sparse-matrix of shape (n_queries, n_samples_fit)\n",
      " |          `n_samples_fit` is the number of samples in the fitted data.\n",
      " |          `A[i, j]` gives the weight of the edge connecting `i` to `j`.\n",
      " |          The matrix is of CSR format.\n",
      " |      \n",
      " |      See Also\n",
      " |      --------\n",
      " |      NearestNeighbors.radius_neighbors_graph : Compute the (weighted) graph\n",
      " |          of Neighbors for points in X.\n",
      " |      \n",
      " |      Examples\n",
      " |      --------\n",
      " |      >>> X = [[0], [3], [1]]\n",
      " |      >>> from sklearn.neighbors import NearestNeighbors\n",
      " |      >>> neigh = NearestNeighbors(n_neighbors=2)\n",
      " |      >>> neigh.fit(X)\n",
      " |      NearestNeighbors(n_neighbors=2)\n",
      " |      >>> A = neigh.kneighbors_graph(X)\n",
      " |      >>> A.toarray()\n",
      " |      array([[1., 0., 1.],\n",
      " |             [0., 1., 1.],\n",
      " |             [1., 0., 1.]])\n",
      " |  \n",
      " |  ----------------------------------------------------------------------\n",
      " |  Data descriptors inherited from sklearn.neighbors._base.KNeighborsMixin:\n",
      " |  \n",
      " |  __dict__\n",
      " |      dictionary for instance variables (if defined)\n",
      " |  \n",
      " |  __weakref__\n",
      " |      list of weak references to the object (if defined)\n",
      " |  \n",
      " |  ----------------------------------------------------------------------\n",
      " |  Methods inherited from sklearn.base.ClassifierMixin:\n",
      " |  \n",
      " |  score(self, X, y, sample_weight=None)\n",
      " |      Return the mean accuracy on the given test data and labels.\n",
      " |      \n",
      " |      In multi-label classification, this is the subset accuracy\n",
      " |      which is a harsh metric since you require for each sample that\n",
      " |      each label set be correctly predicted.\n",
      " |      \n",
      " |      Parameters\n",
      " |      ----------\n",
      " |      X : array-like of shape (n_samples, n_features)\n",
      " |          Test samples.\n",
      " |      \n",
      " |      y : array-like of shape (n_samples,) or (n_samples, n_outputs)\n",
      " |          True labels for `X`.\n",
      " |      \n",
      " |      sample_weight : array-like of shape (n_samples,), default=None\n",
      " |          Sample weights.\n",
      " |      \n",
      " |      Returns\n",
      " |      -------\n",
      " |      score : float\n",
      " |          Mean accuracy of ``self.predict(X)`` wrt. `y`.\n",
      " |  \n",
      " |  ----------------------------------------------------------------------\n",
      " |  Methods inherited from sklearn.base.BaseEstimator:\n",
      " |  \n",
      " |  __getstate__(self)\n",
      " |  \n",
      " |  __repr__(self, N_CHAR_MAX=700)\n",
      " |      Return repr(self).\n",
      " |  \n",
      " |  __setstate__(self, state)\n",
      " |  \n",
      " |  get_params(self, deep=True)\n",
      " |      Get parameters for this estimator.\n",
      " |      \n",
      " |      Parameters\n",
      " |      ----------\n",
      " |      deep : bool, default=True\n",
      " |          If True, will return the parameters for this estimator and\n",
      " |          contained subobjects that are estimators.\n",
      " |      \n",
      " |      Returns\n",
      " |      -------\n",
      " |      params : dict\n",
      " |          Parameter names mapped to their values.\n",
      " |  \n",
      " |  set_params(self, **params)\n",
      " |      Set the parameters of this estimator.\n",
      " |      \n",
      " |      The method works on simple estimators as well as on nested objects\n",
      " |      (such as :class:`~sklearn.pipeline.Pipeline`). The latter have\n",
      " |      parameters of the form ``<component>__<parameter>`` so that it's\n",
      " |      possible to update each component of a nested object.\n",
      " |      \n",
      " |      Parameters\n",
      " |      ----------\n",
      " |      **params : dict\n",
      " |          Estimator parameters.\n",
      " |      \n",
      " |      Returns\n",
      " |      -------\n",
      " |      self : estimator instance\n",
      " |          Estimator instance.\n",
      "\n"
     ]
    }
   ],
   "source": [
    "help(KNeighborsClassifier)"
   ]
  },
  {
   "cell_type": "code",
   "execution_count": 24,
   "id": "1d31ee18",
   "metadata": {},
   "outputs": [
    {
     "data": {
      "text/plain": [
       "115.53787257864843"
      ]
     },
     "execution_count": 24,
     "metadata": {},
     "output_type": "execute_result"
    }
   ],
   "source": [
    "#Testing for optimal K value around k = sqrt(n)\n",
    "sqrt(len(X_tr))"
   ]
  },
  {
   "cell_type": "code",
   "execution_count": 39,
   "id": "721beb30",
   "metadata": {
    "scrolled": true
   },
   "outputs": [
    {
     "name": "stdout",
     "output_type": "stream",
     "text": [
      "for k =   1 accuracy is 0.646\n",
      "for k =   3 accuracy is 0.593\n",
      "for k =   5 accuracy is 0.581\n",
      "for k =  10 accuracy is 0.561\n",
      "for k =  50 accuracy is 0.539\n",
      "for k = 100 accuracy is 0.526\n",
      "for k = 200 accuracy is 0.507\n"
     ]
    }
   ],
   "source": [
    "for k in [1,3,5,10,50,100,200]:\n",
    "    Optimal_K = KNeighborsClassifier(n_neighbors=k).fit(X_tr, y_tr)\n",
    "    ypred = Optimal_K.predict(X_ts)\n",
    "    print('for k = %3i accuracy is %.3f'\n",
    "         %(k, metrics.accuracy_score(y_ts, ypred)))"
   ]
  },
  {
   "cell_type": "code",
   "execution_count": 40,
   "id": "6187ace0",
   "metadata": {},
   "outputs": [
    {
     "data": {
      "text/plain": [
       "Text(0, 0.5, 'Model accuracy')"
      ]
     },
     "execution_count": 40,
     "metadata": {},
     "output_type": "execute_result"
    },
    {
     "data": {
      "image/png": "[encoded data removed]",
      "text/plain": [
       "<Figure size 432x288 with 1 Axes>"
      ]
     },
     "metadata": {
      "needs_background": "light"
     },
     "output_type": "display_data"
    }
   ],
   "source": [
    "#checking error rate with different k values using loop\n",
    "score = []\n",
    "Krange = range(1,50,5)\n",
    "for k in Krange :\n",
    "    Optimal_K = KNeighborsClassifier(n_neighbors=k)\n",
    "    Optimal_K.fit(X_tr, y_tr)\n",
    "    ypred = Optimal_K.predict(X_ts)\n",
    "    score.append(metrics.accuracy_score(y_ts,  ypred))\n",
    "\n",
    "plt.plot(Krange,score)\n",
    "plt.title(\"Accuracy by k-values used\")\n",
    "plt.xlabel(\"k value for KNN model\")\n",
    "plt.ylabel('Model accuracy')"
   ]
  },
  {
   "cell_type": "code",
   "execution_count": 60,
   "id": "fd42d656",
   "metadata": {},
   "outputs": [
    {
     "name": "stdout",
     "output_type": "stream",
     "text": [
      "KNeighborsClassifier(n_neighbors=3)\n"
     ]
    }
   ],
   "source": [
    "#configure the KNN function for KNN classification model\n",
    "\n",
    "KNN_model = KNeighborsClassifier(n_neighbors=3) \n",
    "KNN_model.fit(X_tr, y_tr) \n",
    "print(KNN_model.fit(X_tr, y_tr))"
   ]
  },
  {
   "cell_type": "code",
   "execution_count": 61,
   "id": "4ea72787",
   "metadata": {},
   "outputs": [],
   "source": [
    "y_predicted = KNN_model.predict(X_ts)"
   ]
  },
  {
   "cell_type": "code",
   "execution_count": 62,
   "id": "da22206d",
   "metadata": {},
   "outputs": [
    {
     "name": "stdout",
     "output_type": "stream",
     "text": [
      "[[977 112  56  88  15]\n",
      " [179 554 138 261  78]\n",
      " [133 251 288 175  55]\n",
      " [154 357 140 712  24]\n",
      " [ 28  42  27  13 864]]\n"
     ]
    }
   ],
   "source": [
    "#Create confusion matrix\n",
    "\n",
    "from sklearn.metrics import confusion_matrix\n",
    "con_matx = confusion_matrix(y_ts, y_predicted)\n",
    "print(con_matx)"
   ]
  },
  {
   "cell_type": "code",
   "execution_count": 50,
   "id": "ad098f9a",
   "metadata": {
    "scrolled": true
   },
   "outputs": [
    {
     "name": "stdout",
     "output_type": "stream",
     "text": [
      "              precision    recall  f1-score   support\n",
      "\n",
      "           1       0.72      0.75      0.73      1248\n",
      "           2       0.40      0.45      0.42      1210\n",
      "           3       0.39      0.33      0.36       902\n",
      "           4       0.54      0.48      0.51      1387\n",
      "           5       0.82      0.91      0.87       974\n",
      "\n",
      "    accuracy                           0.58      5721\n",
      "   macro avg       0.57      0.58      0.58      5721\n",
      "weighted avg       0.57      0.58      0.58      5721\n",
      "\n"
     ]
    }
   ],
   "source": [
    "from sklearn.metrics import classification_report\n",
    "print(classification_report(y_ts, y_predicted))"
   ]
  },
  {
   "cell_type": "code",
   "execution_count": 63,
   "id": "43a9f202",
   "metadata": {},
   "outputs": [
    {
     "name": "stdout",
     "output_type": "stream",
     "text": [
      "Run -> 1 mean=0.6061 se=0.003\n",
      "Run -> 2 mean=0.6042 se=0.003\n",
      "Run -> 3 mean=0.6052 se=0.002\n",
      "Run -> 4 mean=0.6054 se=0.002\n",
      "Run -> 5 mean=0.6054 se=0.001\n",
      "Run -> 6 mean=0.6052 se=0.001\n",
      "Run -> 7 mean=0.6054 se=0.001\n",
      "Run -> 8 mean=0.6052 se=0.001\n",
      "Run -> 9 mean=0.6050 se=0.001\n",
      "Run -> 10 mean=0.6052 se=0.001\n"
     ]
    }
   ],
   "source": [
    "# create function to evaluate the Repeated k-fold model\n",
    "def mod_eval(X, y, Reps):\n",
    "    cv = RepeatedKFold(n_splits=10, n_repeats=Reps, random_state=23)\n",
    "    model = KNeighborsClassifier(n_neighbors=3)\n",
    "    scores = cross_val_score(model, X, y, scoring='accuracy', cv=cv, n_jobs=-1)\n",
    "    return scores\n",
    " \n",
    "\n",
    "# configurations to test\n",
    "Reps = range(1,11)\n",
    "results = list()\n",
    "for r in Reps:\n",
    "    scores = mod_eval(X, y, r)\n",
    "    print('Run -> %d mean=%.4f se=%.3f' % (r, mean(scores), stats.sem(scores)))\n",
    "    results.append(scores)"
   ]
  },
  {
   "cell_type": "code",
   "execution_count": 64,
   "id": "41fd88f3",
   "metadata": {},
   "outputs": [
    {
     "data": {
      "image/png": "[encoded data removed]",
      "text/plain": [
       "<Figure size 432x288 with 1 Axes>"
      ]
     },
     "metadata": {
      "needs_background": "light"
     },
     "output_type": "display_data"
    }
   ],
   "source": [
    "#plot the average accuracy\n",
    "\n",
    "plt.boxplot(results, labels=[str(r) for r in Reps], showmeans=True)\n",
    "plt.title('Accuracy for Repeated k-fold model')\n",
    "plt.xlabel('Run')\n",
    "plt.ylabel('Accuracy')\n",
    "plt.show()\n"
   ]
  },
  {
   "cell_type": "code",
   "execution_count": 65,
   "id": "f4871411",
   "metadata": {},
   "outputs": [
    {
     "name": "stdout",
     "output_type": "stream",
     "text": [
      "Run -> 1 mean=0.5885 se=0.003\n",
      "Run -> 2 mean=0.5905 se=0.002\n",
      "Run -> 3 mean=0.5906 se=0.002\n",
      "Run -> 4 mean=0.5902 se=0.001\n",
      "Run -> 5 mean=0.5902 se=0.001\n",
      "Run -> 6 mean=0.5901 se=0.001\n",
      "Run -> 7 mean=0.5899 se=0.001\n",
      "Run -> 8 mean=0.5893 se=0.001\n",
      "Run -> 9 mean=0.5894 se=0.001\n",
      "Run -> 10 mean=0.5895 se=0.001\n"
     ]
    }
   ],
   "source": [
    "# create function to evaluate the model\n",
    "def mod_eval(X, y, Reps):\n",
    "    cv = RepeatedStratifiedKFold(n_splits=10, n_repeats=Reps, random_state=23)\n",
    "    model = KNeighborsClassifier(n_neighbors=5)\n",
    "    scores = cross_val_score(model, X, y, scoring='accuracy', cv=cv, n_jobs=-1)\n",
    "    return scores\n",
    " \n",
    "\n",
    "# configurations to test\n",
    "Reps = range(1,11)\n",
    "results = list()\n",
    "for r in Reps:\n",
    "    scores = mod_eval(X, y, r)\n",
    "    print('Run -> %d mean=%.4f se=%.3f' % (r, mean(scores), stats.sem(scores)))\n",
    "    results.append(scores)"
   ]
  },
  {
   "cell_type": "code",
   "execution_count": 66,
   "id": "18650a26",
   "metadata": {},
   "outputs": [
    {
     "data": {
      "image/png": "[encoded data removed]",
      "text/plain": [
       "<Figure size 432x288 with 1 Axes>"
      ]
     },
     "metadata": {
      "needs_background": "light"
     },
     "output_type": "display_data"
    }
   ],
   "source": [
    "#plot the average accuracy\n",
    "\n",
    "plt.boxplot(results, labels=[str(r) for r in Reps], showmeans=True)\n",
    "plt.title('Accuracy for Repeated Stratified k-fold model')\n",
    "plt.xlabel('Run')\n",
    "plt.ylabel('Accuracy')\n",
    "plt.show()"
   ]
  },
  {
   "cell_type": "code",
   "execution_count": null,
   "id": "648d664b",
   "metadata": {},
   "outputs": [],
   "source": []
  }
 ],
 "metadata": {
  "kernelspec": {
   "display_name": "Python 3",
   "language": "python",
   "name": "python3"
  },
  "language_info": {
   "codemirror_mode": {
    "name": "ipython",
    "version": 3
   },
   "file_extension": ".py",
   "mimetype": "text/x-python",
   "name": "python",
   "nbconvert_exporter": "python",
   "pygments_lexer": "ipython3",
   "version": "3.9.12"
  }
 },
 "nbformat": 4,
 "nbformat_minor": 5
}
