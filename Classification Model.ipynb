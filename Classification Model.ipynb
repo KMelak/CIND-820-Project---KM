{
 "cells": [
  {
   "cell_type": "code",
   "execution_count": 2,
   "id": "30039ca9",
   "metadata": {},
   "outputs": [],
   "source": [
    "import pandas as pd\n",
    "import numpy as np\n",
    "from matplotlib import pyplot"
   ]
  },
  {
   "cell_type": "code",
   "execution_count": 3,
   "id": "09620438",
   "metadata": {},
   "outputs": [
    {
     "data": {
      "text/html": [
       "<div>\n",
       "<style scoped>\n",
       "    .dataframe tbody tr th:only-of-type {\n",
       "        vertical-align: middle;\n",
       "    }\n",
       "\n",
       "    .dataframe tbody tr th {\n",
       "        vertical-align: top;\n",
       "    }\n",
       "\n",
       "    .dataframe thead th {\n",
       "        text-align: right;\n",
       "    }\n",
       "</style>\n",
       "<table border=\"1\" class=\"dataframe\">\n",
       "  <thead>\n",
       "    <tr style=\"text-align: right;\">\n",
       "      <th></th>\n",
       "      <th>Industry</th>\n",
       "      <th>AgeRange</th>\n",
       "      <th>Gender</th>\n",
       "      <th>Year</th>\n",
       "      <th>NLT_Claims</th>\n",
       "      <th>LT_Claims</th>\n",
       "      <th>F_Claims</th>\n",
       "      <th>NLT_rating</th>\n",
       "      <th>LT_rating</th>\n",
       "      <th>F_rating</th>\n",
       "    </tr>\n",
       "  </thead>\n",
       "  <tbody>\n",
       "    <tr>\n",
       "      <th>0</th>\n",
       "      <td>Transportation</td>\n",
       "      <td>65+</td>\n",
       "      <td>Male</td>\n",
       "      <td>2017.0</td>\n",
       "      <td>12.811065</td>\n",
       "      <td>8.282845</td>\n",
       "      <td>0.319687</td>\n",
       "      <td>3.0</td>\n",
       "      <td>3.0</td>\n",
       "      <td>1.0</td>\n",
       "    </tr>\n",
       "    <tr>\n",
       "      <th>1</th>\n",
       "      <td>Construction</td>\n",
       "      <td>25-29</td>\n",
       "      <td>Male</td>\n",
       "      <td>2015.0</td>\n",
       "      <td>21.518905</td>\n",
       "      <td>11.984111</td>\n",
       "      <td>0.290714</td>\n",
       "      <td>5.0</td>\n",
       "      <td>5.0</td>\n",
       "      <td>1.0</td>\n",
       "    </tr>\n",
       "    <tr>\n",
       "      <th>2</th>\n",
       "      <td>Construction</td>\n",
       "      <td>50-54</td>\n",
       "      <td>Male</td>\n",
       "      <td>2017.0</td>\n",
       "      <td>18.272725</td>\n",
       "      <td>11.257530</td>\n",
       "      <td>0.319687</td>\n",
       "      <td>4.0</td>\n",
       "      <td>4.0</td>\n",
       "      <td>1.0</td>\n",
       "    </tr>\n",
       "    <tr>\n",
       "      <th>3</th>\n",
       "      <td>Manufacturing</td>\n",
       "      <td>35-39</td>\n",
       "      <td>Male</td>\n",
       "      <td>2015.0</td>\n",
       "      <td>19.500555</td>\n",
       "      <td>10.927124</td>\n",
       "      <td>0.290714</td>\n",
       "      <td>5.0</td>\n",
       "      <td>4.0</td>\n",
       "      <td>1.0</td>\n",
       "    </tr>\n",
       "    <tr>\n",
       "      <th>4</th>\n",
       "      <td>Construction</td>\n",
       "      <td>60-64</td>\n",
       "      <td>Male</td>\n",
       "      <td>2013.0</td>\n",
       "      <td>13.363149</td>\n",
       "      <td>8.491301</td>\n",
       "      <td>0.290714</td>\n",
       "      <td>3.0</td>\n",
       "      <td>3.0</td>\n",
       "      <td>1.0</td>\n",
       "    </tr>\n",
       "  </tbody>\n",
       "</table>\n",
       "</div>"
      ],
      "text/plain": [
       "         Industry AgeRange Gender    Year  NLT_Claims  LT_Claims  F_Claims  \\\n",
       "0  Transportation      65+   Male  2017.0   12.811065   8.282845  0.319687   \n",
       "1    Construction    25-29   Male  2015.0   21.518905  11.984111  0.290714   \n",
       "2    Construction    50-54   Male  2017.0   18.272725  11.257530  0.319687   \n",
       "3   Manufacturing    35-39   Male  2015.0   19.500555  10.927124  0.290714   \n",
       "4    Construction    60-64   Male  2013.0   13.363149   8.491301  0.290714   \n",
       "\n",
       "   NLT_rating  LT_rating  F_rating  \n",
       "0         3.0        3.0       1.0  \n",
       "1         5.0        5.0       1.0  \n",
       "2         4.0        4.0       1.0  \n",
       "3         5.0        4.0       1.0  \n",
       "4         3.0        3.0       1.0  "
      ]
     },
     "execution_count": 3,
     "metadata": {},
     "output_type": "execute_result"
    }
   ],
   "source": [
    "#Import the data --> this file represents only the train set\n",
    "Data = pd.read_csv(\"Transformed.csv\")\n",
    "del Data[\"Unnamed: 0\"]\n",
    "Data.head()"
   ]
  },
  {
   "cell_type": "code",
   "execution_count": 4,
   "id": "10bc9386",
   "metadata": {},
   "outputs": [],
   "source": [
    "#import necessary packages\n",
    "from numpy import mean\n",
    "from numpy import std\n",
    "from scipy.stats import sem\n",
    "from scipy import stats\n",
    "from sklearn.model_selection import train_test_split\n",
    "from sklearn.linear_model import LogisticRegression\n",
    "from sklearn.model_selection import RepeatedKFold\n",
    "from sklearn.model_selection import cross_val_score"
   ]
  },
  {
   "cell_type": "code",
   "execution_count": 5,
   "id": "7bacb832",
   "metadata": {},
   "outputs": [
    {
     "name": "stdout",
     "output_type": "stream",
     "text": [
      "['Industry', 'AgeRange', 'Gender', 'Year', 'LT_rating', 'F_rating']\n"
     ]
    }
   ],
   "source": [
    "#define the features (X) and target (y) --> using NLT_Claims as dependent variable\n",
    "X = Data.drop(['NLT_Claims', 'LT_Claims', 'F_Claims', 'NLT_rating'], axis=1)\n",
    "y = Data['NLT_rating']\n",
    "print(list(X.columns.values))  #Remaining features used in the model"
   ]
  },
  {
   "cell_type": "code",
   "execution_count": 6,
   "id": "43032162",
   "metadata": {},
   "outputs": [
    {
     "data": {
      "text/html": [
       "<div>\n",
       "<style scoped>\n",
       "    .dataframe tbody tr th:only-of-type {\n",
       "        vertical-align: middle;\n",
       "    }\n",
       "\n",
       "    .dataframe tbody tr th {\n",
       "        vertical-align: top;\n",
       "    }\n",
       "\n",
       "    .dataframe thead th {\n",
       "        text-align: right;\n",
       "    }\n",
       "</style>\n",
       "<table border=\"1\" class=\"dataframe\">\n",
       "  <thead>\n",
       "    <tr style=\"text-align: right;\">\n",
       "      <th></th>\n",
       "      <th>Year</th>\n",
       "      <th>LT_rating</th>\n",
       "      <th>F_rating</th>\n",
       "      <th>Ind_code</th>\n",
       "      <th>Age_code</th>\n",
       "      <th>Gen_code</th>\n",
       "    </tr>\n",
       "  </thead>\n",
       "  <tbody>\n",
       "    <tr>\n",
       "      <th>0</th>\n",
       "      <td>2017.0</td>\n",
       "      <td>3.0</td>\n",
       "      <td>1.0</td>\n",
       "      <td>8</td>\n",
       "      <td>11.0</td>\n",
       "      <td>2.0</td>\n",
       "    </tr>\n",
       "    <tr>\n",
       "      <th>1</th>\n",
       "      <td>2015.0</td>\n",
       "      <td>5.0</td>\n",
       "      <td>1.0</td>\n",
       "      <td>12</td>\n",
       "      <td>3.0</td>\n",
       "      <td>2.0</td>\n",
       "    </tr>\n",
       "    <tr>\n",
       "      <th>2</th>\n",
       "      <td>2017.0</td>\n",
       "      <td>4.0</td>\n",
       "      <td>1.0</td>\n",
       "      <td>12</td>\n",
       "      <td>8.0</td>\n",
       "      <td>2.0</td>\n",
       "    </tr>\n",
       "    <tr>\n",
       "      <th>3</th>\n",
       "      <td>2015.0</td>\n",
       "      <td>4.0</td>\n",
       "      <td>1.0</td>\n",
       "      <td>2</td>\n",
       "      <td>5.0</td>\n",
       "      <td>2.0</td>\n",
       "    </tr>\n",
       "    <tr>\n",
       "      <th>4</th>\n",
       "      <td>2013.0</td>\n",
       "      <td>3.0</td>\n",
       "      <td>1.0</td>\n",
       "      <td>12</td>\n",
       "      <td>10.0</td>\n",
       "      <td>2.0</td>\n",
       "    </tr>\n",
       "    <tr>\n",
       "      <th>...</th>\n",
       "      <td>...</td>\n",
       "      <td>...</td>\n",
       "      <td>...</td>\n",
       "      <td>...</td>\n",
       "      <td>...</td>\n",
       "      <td>...</td>\n",
       "    </tr>\n",
       "    <tr>\n",
       "      <th>725</th>\n",
       "      <td>2019.0</td>\n",
       "      <td>4.0</td>\n",
       "      <td>1.0</td>\n",
       "      <td>2</td>\n",
       "      <td>5.0</td>\n",
       "      <td>2.0</td>\n",
       "    </tr>\n",
       "    <tr>\n",
       "      <th>726</th>\n",
       "      <td>2019.0</td>\n",
       "      <td>4.0</td>\n",
       "      <td>1.0</td>\n",
       "      <td>7</td>\n",
       "      <td>10.0</td>\n",
       "      <td>2.0</td>\n",
       "    </tr>\n",
       "    <tr>\n",
       "      <th>727</th>\n",
       "      <td>0.0</td>\n",
       "      <td>0.0</td>\n",
       "      <td>0.0</td>\n",
       "      <td>0</td>\n",
       "      <td>0.0</td>\n",
       "      <td>-1.0</td>\n",
       "    </tr>\n",
       "    <tr>\n",
       "      <th>728</th>\n",
       "      <td>2018.0</td>\n",
       "      <td>3.0</td>\n",
       "      <td>0.0</td>\n",
       "      <td>7</td>\n",
       "      <td>11.0</td>\n",
       "      <td>2.0</td>\n",
       "    </tr>\n",
       "    <tr>\n",
       "      <th>729</th>\n",
       "      <td>2017.0</td>\n",
       "      <td>5.0</td>\n",
       "      <td>0.0</td>\n",
       "      <td>7</td>\n",
       "      <td>5.0</td>\n",
       "      <td>2.0</td>\n",
       "    </tr>\n",
       "  </tbody>\n",
       "</table>\n",
       "<p>730 rows × 6 columns</p>\n",
       "</div>"
      ],
      "text/plain": [
       "       Year  LT_rating  F_rating  Ind_code  Age_code  Gen_code\n",
       "0    2017.0        3.0       1.0         8      11.0       2.0\n",
       "1    2015.0        5.0       1.0        12       3.0       2.0\n",
       "2    2017.0        4.0       1.0        12       8.0       2.0\n",
       "3    2015.0        4.0       1.0         2       5.0       2.0\n",
       "4    2013.0        3.0       1.0        12      10.0       2.0\n",
       "..      ...        ...       ...       ...       ...       ...\n",
       "725  2019.0        4.0       1.0         2       5.0       2.0\n",
       "726  2019.0        4.0       1.0         7      10.0       2.0\n",
       "727     0.0        0.0       0.0         0       0.0      -1.0\n",
       "728  2018.0        3.0       0.0         7      11.0       2.0\n",
       "729  2017.0        5.0       0.0         7       5.0       2.0\n",
       "\n",
       "[730 rows x 6 columns]"
      ]
     },
     "execution_count": 6,
     "metadata": {},
     "output_type": "execute_result"
    }
   ],
   "source": [
    "#Encode categories for Categorical variables --> Industry, AgeRange, Gender\n",
    "import category_encoders as ce\n",
    "#Industry\n",
    "enc_Ind= ce.OrdinalEncoder(cols=['Industry'], mapping=[{'col':'Industry', 'mapping':{'Forestry':1, 'Manufacturing':2, 'Mining':3, 'Chemicals/Process':4,\n",
    "       'Electrical':5, 'Health Care':6, 'Services':7, 'Transportation':8, '0.0':0, 'Food':9, 'Municipal':10, 'Agriculture':11, 'Construction':12, 'Education':13,\n",
    "       'Automotive':14, 'Primary Metals':15, 'Pulp & Paper':16}}])\n",
    "X['Ind_code'] = enc_Ind.fit_transform(X[['Industry']])\n",
    "del X['Industry'] \n",
    "\n",
    "#Encode AgeRange\n",
    "enc_Age= ce.OrdinalEncoder(cols=['AgeRange'], mapping=[{'col':'AgeRange',\n",
    "'mapping':{'15-19':1, '20-24':2, '25-29':3, '30-34':4,'35-39':5, '40-44':6, '45-49':7, '50-54':8, '0.0':0,'55-60':9, '60-64':10, '65+':11}}])\n",
    "X['Age_code'] = enc_Age.fit_transform(X[['AgeRange']])\n",
    "del X['AgeRange'] \n",
    "\n",
    "#Encode Gender\n",
    "enc_Gen= ce.OrdinalEncoder(cols=['Gender'],mapping=[{'col':'Gender','mapping':{'Female':1, 'Male':2}}])\n",
    "X['Gen_code'] = enc_Gen.fit_transform(X[['Gender']])\n",
    "del X['Gender'] \n",
    "\n",
    "X"
   ]
  },
  {
   "cell_type": "code",
   "execution_count": 7,
   "id": "ed491a25",
   "metadata": {},
   "outputs": [],
   "source": [
    "X_tr, X_ts, y_tr, y_ts = train_test_split(X, y, test_size = 0.3)"
   ]
  },
  {
   "cell_type": "code",
   "execution_count": 8,
   "id": "fd42d656",
   "metadata": {},
   "outputs": [
    {
     "name": "stdout",
     "output_type": "stream",
     "text": [
      "LogisticRegression(max_iter=1000, multi_class='multinomial')\n"
     ]
    },
    {
     "name": "stderr",
     "output_type": "stream",
     "text": [
      "C:\\Users\\eddym\\anaconda3\\lib\\site-packages\\sklearn\\linear_model\\_logistic.py:814: ConvergenceWarning: lbfgs failed to converge (status=1):\n",
      "STOP: TOTAL NO. of ITERATIONS REACHED LIMIT.\n",
      "\n",
      "Increase the number of iterations (max_iter) or scale the data as shown in:\n",
      "    https://scikit-learn.org/stable/modules/preprocessing.html\n",
      "Please also refer to the documentation for alternative solver options:\n",
      "    https://scikit-learn.org/stable/modules/linear_model.html#logistic-regression\n",
      "  n_iter_i = _check_optimize_result(\n"
     ]
    }
   ],
   "source": [
    "#configure the LogisticRegression function for multinomial logistic regression\n",
    "LR_model = LogisticRegression(multi_class = 'multinomial',max_iter=1000)\n",
    "print(LR_model.fit(X_tr, y_tr))"
   ]
  },
  {
   "cell_type": "code",
   "execution_count": 9,
   "id": "4ea72787",
   "metadata": {},
   "outputs": [],
   "source": [
    "y_predicted = LR_model.predict(X_ts)"
   ]
  },
  {
   "cell_type": "code",
   "execution_count": 10,
   "id": "da22206d",
   "metadata": {},
   "outputs": [
    {
     "name": "stdout",
     "output_type": "stream",
     "text": [
      "[[23 14  0  0  0  0]\n",
      " [ 4 22 10  0  0  0]\n",
      " [ 0 10 15 14  0  0]\n",
      " [ 0  0  8 26  4  1]\n",
      " [ 0  0  0  6 14 15]\n",
      " [ 0  0  0  0  5 28]]\n"
     ]
    }
   ],
   "source": [
    "#Create confusion matrix\n",
    "\n",
    "from sklearn.metrics import confusion_matrix\n",
    "con_matx = confusion_matrix(y_ts, y_predicted)\n",
    "print(con_matx)"
   ]
  },
  {
   "cell_type": "code",
   "execution_count": 11,
   "id": "ad098f9a",
   "metadata": {},
   "outputs": [
    {
     "name": "stdout",
     "output_type": "stream",
     "text": [
      "              precision    recall  f1-score   support\n",
      "\n",
      "         0.0       0.85      0.62      0.72        37\n",
      "         1.0       0.48      0.61      0.54        36\n",
      "         2.0       0.45      0.38      0.42        39\n",
      "         3.0       0.57      0.67      0.61        39\n",
      "         4.0       0.61      0.40      0.48        35\n",
      "         5.0       0.64      0.85      0.73        33\n",
      "\n",
      "    accuracy                           0.58       219\n",
      "   macro avg       0.60      0.59      0.58       219\n",
      "weighted avg       0.60      0.58      0.58       219\n",
      "\n"
     ]
    }
   ],
   "source": [
    "from sklearn.metrics import classification_report\n",
    "print(classification_report(y_ts, y_predicted))"
   ]
  },
  {
   "cell_type": "code",
   "execution_count": 12,
   "id": "43a9f202",
   "metadata": {},
   "outputs": [
    {
     "name": "stdout",
     "output_type": "stream",
     "text": [
      "Run -> 1 mean=0.5658 se=0.023\n",
      "Run -> 2 mean=0.5562 se=0.015\n",
      "Run -> 3 mean=0.5644 se=0.011\n",
      "Run -> 4 mean=0.5682 se=0.009\n",
      "Run -> 5 mean=0.5704 se=0.010\n",
      "Run -> 6 mean=0.5692 se=0.009\n",
      "Run -> 7 mean=0.5667 se=0.008\n",
      "Run -> 8 mean=0.5666 se=0.008\n",
      "Run -> 9 mean=0.5642 se=0.008\n"
     ]
    }
   ],
   "source": [
    "# create function to evaluate the model\n",
    "def mod_eval(X, y, Reps):\n",
    "    cv = RepeatedKFold(n_splits=10, n_repeats=Reps, random_state=1)\n",
    "    model = LogisticRegression(multi_class = 'multinomial')\n",
    "    scores = cross_val_score(model, X, y, scoring='accuracy', cv=cv, n_jobs=-1)\n",
    "    return scores\n",
    " \n",
    "\n",
    "# configurations to test\n",
    "Reps = range(1,10)\n",
    "results = list()\n",
    "for r in Reps:\n",
    "    scores = mod_eval(X, y, r)\n",
    "    print('Run -> %d mean=%.4f se=%.3f' % (r, mean(scores), stats.sem(scores)))\n",
    "    results.append(scores)"
   ]
  },
  {
   "cell_type": "code",
   "execution_count": 14,
   "id": "41fd88f3",
   "metadata": {},
   "outputs": [
    {
     "data": {
      "image/png": "[encoded data removed]",
      "text/plain": [
       "<Figure size 432x288 with 1 Axes>"
      ]
     },
     "metadata": {
      "needs_background": "light"
     },
     "output_type": "display_data"
    }
   ],
   "source": [
    "#plot the average accuracy\n",
    "pyplot.boxplot(results, labels=[str(r) for r in Reps], showmeans=True)\n",
    "pyplot.show()"
   ]
  },
  {
   "cell_type": "code",
   "execution_count": null,
   "id": "dcf0bfac",
   "metadata": {},
   "outputs": [],
   "source": []
  }
 ],
 "metadata": {
  "kernelspec": {
   "display_name": "Python 3",
   "language": "python",
   "name": "python3"
  },
  "language_info": {
   "codemirror_mode": {
    "name": "ipython",
    "version": 3
   },
   "file_extension": ".py",
   "mimetype": "text/x-python",
   "name": "python",
   "nbconvert_exporter": "python",
   "pygments_lexer": "ipython3",
   "version": "3.9.12"
  }
 },
 "nbformat": 4,
 "nbformat_minor": 5
}
