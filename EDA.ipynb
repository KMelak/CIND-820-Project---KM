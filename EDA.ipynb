{
 "cells": [
  {
   "cell_type": "markdown",
   "metadata": {},
   "source": [
    "Install necessary packages"
   ]
  },
  {
   "cell_type": "code",
   "execution_count": 15,
   "metadata": {},
   "outputs": [
    {
     "name": "stdout",
     "output_type": "stream",
     "text": [
      "Requirement already satisfied: pandas in c:\\users\\eddym\\miniconda3\\lib\\site-packages (1.4.2)\n",
      "Requirement already satisfied: numpy>=1.18.5; platform_machine != \"aarch64\" and platform_machine != \"arm64\" and python_version < \"3.10\" in c:\\users\\eddym\\miniconda3\\lib\\site-packages (from pandas) (1.22.4)\n",
      "Requirement already satisfied: pytz>=2020.1 in c:\\users\\eddym\\miniconda3\\lib\\site-packages (from pandas) (2022.1)\n",
      "Requirement already satisfied: python-dateutil>=2.8.1 in c:\\users\\eddym\\miniconda3\\lib\\site-packages (from pandas) (2.8.2)\n",
      "Requirement already satisfied: six>=1.5 in c:\\users\\eddym\\miniconda3\\lib\\site-packages (from python-dateutil>=2.8.1->pandas) (1.15.0)\n",
      "Note: you may need to restart the kernel to use updated packages.\n"
     ]
    }
   ],
   "source": [
    "pip install pandas\n",
    "pip install pandas-profiling[notebook]"
   ]
  },
  {
   "cell_type": "code",
   "execution_count": 8,
   "metadata": {},
   "outputs": [],
   "source": [
    "import numpy as np\n",
    "import pandas as pd\n",
    "import pandas_profiling"
   ]
  },
  {
   "cell_type": "markdown",
   "metadata": {},
   "source": [
    "Read the compiled data file - WSIB_data.csv"
   ]
  },
  {
   "cell_type": "code",
   "execution_count": 13,
   "metadata": {},
   "outputs": [],
   "source": [
    "data = pd.read_csv('WSIB_data.csv')"
   ]
  },
  {
   "cell_type": "code",
   "execution_count": 18,
   "metadata": {},
   "outputs": [
    {
     "data": {
      "text/html": [
       "<div>\n",
       "<style scoped>\n",
       "    .dataframe tbody tr th:only-of-type {\n",
       "        vertical-align: middle;\n",
       "    }\n",
       "\n",
       "    .dataframe tbody tr th {\n",
       "        vertical-align: top;\n",
       "    }\n",
       "\n",
       "    .dataframe thead th {\n",
       "        text-align: right;\n",
       "    }\n",
       "</style>\n",
       "<table border=\"1\" class=\"dataframe\">\n",
       "  <thead>\n",
       "    <tr style=\"text-align: right;\">\n",
       "      <th></th>\n",
       "      <th>Industry</th>\n",
       "      <th>AgeRange</th>\n",
       "      <th>Gender</th>\n",
       "      <th>Year</th>\n",
       "      <th>NLT_Claims</th>\n",
       "      <th>LT_Claims</th>\n",
       "      <th>F_Claims</th>\n",
       "    </tr>\n",
       "  </thead>\n",
       "  <tbody>\n",
       "    <tr>\n",
       "      <th>0</th>\n",
       "      <td>Agriculture</td>\n",
       "      <td>20-24</td>\n",
       "      <td>Male</td>\n",
       "      <td>2011</td>\n",
       "      <td>218</td>\n",
       "      <td>122</td>\n",
       "      <td>0</td>\n",
       "    </tr>\n",
       "    <tr>\n",
       "      <th>1</th>\n",
       "      <td>Agriculture</td>\n",
       "      <td>20-24</td>\n",
       "      <td>Male</td>\n",
       "      <td>2012</td>\n",
       "      <td>224</td>\n",
       "      <td>152</td>\n",
       "      <td>2</td>\n",
       "    </tr>\n",
       "    <tr>\n",
       "      <th>2</th>\n",
       "      <td>Agriculture</td>\n",
       "      <td>20-24</td>\n",
       "      <td>Male</td>\n",
       "      <td>2013</td>\n",
       "      <td>270</td>\n",
       "      <td>162</td>\n",
       "      <td>0</td>\n",
       "    </tr>\n",
       "    <tr>\n",
       "      <th>3</th>\n",
       "      <td>Agriculture</td>\n",
       "      <td>20-24</td>\n",
       "      <td>Male</td>\n",
       "      <td>2014</td>\n",
       "      <td>261</td>\n",
       "      <td>181</td>\n",
       "      <td>0</td>\n",
       "    </tr>\n",
       "    <tr>\n",
       "      <th>4</th>\n",
       "      <td>Agriculture</td>\n",
       "      <td>20-24</td>\n",
       "      <td>Male</td>\n",
       "      <td>2015</td>\n",
       "      <td>282</td>\n",
       "      <td>186</td>\n",
       "      <td>0</td>\n",
       "    </tr>\n",
       "  </tbody>\n",
       "</table>\n",
       "</div>"
      ],
      "text/plain": [
       "      Industry AgeRange Gender  Year  NLT_Claims  LT_Claims  F_Claims\n",
       "0  Agriculture    20-24   Male  2011         218        122         0\n",
       "1  Agriculture    20-24   Male  2012         224        152         2\n",
       "2  Agriculture    20-24   Male  2013         270        162         0\n",
       "3  Agriculture    20-24   Male  2014         261        181         0\n",
       "4  Agriculture    20-24   Male  2015         282        186         0"
      ]
     },
     "execution_count": 18,
     "metadata": {},
     "output_type": "execute_result"
    }
   ],
   "source": [
    "data.head(5)"
   ]
  },
  {
   "cell_type": "markdown",
   "metadata": {},
   "source": [
    "Remove column 1 --> \"Unnamed: 0\""
   ]
  },
  {
   "cell_type": "code",
   "execution_count": 17,
   "metadata": {},
   "outputs": [],
   "source": [
    "del data[\"Unnamed: 0\"]"
   ]
  },
  {
   "cell_type": "code",
   "execution_count": 19,
   "metadata": {},
   "outputs": [
    {
     "data": {
      "text/plain": [
       "<bound method NDFrame.describe of             Industry AgeRange Gender  Year  NLT_Claims  LT_Claims  F_Claims\n",
       "0        Agriculture    20-24   Male  2011         218        122         0\n",
       "1        Agriculture    20-24   Male  2012         224        152         2\n",
       "2        Agriculture    20-24   Male  2013         270        162         0\n",
       "3        Agriculture    20-24   Male  2014         261        181         0\n",
       "4        Agriculture    20-24   Male  2015         282        186         0\n",
       "...              ...      ...    ...   ...         ...        ...       ...\n",
       "1039  Transportation      65+   Male  2015         296        122         1\n",
       "1040  Transportation      65+   Male  2016         328        160         2\n",
       "1041  Transportation      65+   Male  2017         381        160         2\n",
       "1042  Transportation      65+   Male  2018         405        182         1\n",
       "1043  Transportation      65+   Male  2019         419        233         1\n",
       "\n",
       "[1044 rows x 7 columns]>"
      ]
     },
     "execution_count": 19,
     "metadata": {},
     "output_type": "execute_result"
    }
   ],
   "source": [
    "data.describe"
   ]
  },
  {
   "cell_type": "code",
   "execution_count": 10,
   "metadata": {},
   "outputs": [],
   "source": [
    "from pandas_profiling import ProfileReport"
   ]
  },
  {
   "cell_type": "code",
   "execution_count": 20,
   "metadata": {},
   "outputs": [],
   "source": [
    "report = ProfileReport(data, title=\"WSIB claims\")"
   ]
  },
  {
   "cell_type": "code",
   "execution_count": 21,
   "metadata": {},
   "outputs": [
    {
     "name": "stderr",
     "output_type": "stream",
     "text": [
      "Summarize dataset: 100%|██████████| 36/36 [00:05<00:00,  6.70it/s, Completed]                     \n",
      "Generate report structure: 100%|██████████| 1/1 [00:01<00:00,  1.83s/it]\n",
      "Render HTML: 100%|██████████| 1/1 [00:00<00:00,  1.42it/s]\n",
      "Export report to file: 100%|██████████| 1/1 [00:00<00:00, 150.88it/s]\n"
     ]
    }
   ],
   "source": [
    "report.to_file(\"WSIB_Profile_Report.html\")"
   ]
  }
 ],
 "metadata": {
  "kernelspec": {
   "display_name": "Python 3.8.5 ('base')",
   "language": "python",
   "name": "python3"
  },
  "language_info": {
   "codemirror_mode": {
    "name": "ipython",
    "version": 3
   },
   "file_extension": ".py",
   "mimetype": "text/x-python",
   "name": "python",
   "nbconvert_exporter": "python",
   "pygments_lexer": "ipython3",
   "version": "3.8.5"
  },
  "orig_nbformat": 4,
  "vscode": {
   "interpreter": {
    "hash": "ab70870c1f8317a66486147f20e8ace8ebdb0c62b89cdaca8750e70127690ff6"
   }
  }
 },
 "nbformat": 4,
 "nbformat_minor": 2
}
